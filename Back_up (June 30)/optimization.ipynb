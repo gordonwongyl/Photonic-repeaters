{
 "cells": [
  {
   "cell_type": "code",
   "execution_count": 368,
   "metadata": {},
   "outputs": [
    {
     "data": {
      "text/plain": [
       "<module 'rgs' from '/Users/gordonwongyl/Documents/ORF/Reproduce_result/rgs.py'>"
      ]
     },
     "execution_count": 368,
     "metadata": {},
     "output_type": "execute_result"
    }
   ],
   "source": [
    "import numpy as np\n",
    "import matplotlib.pyplot as plt\n",
    "from scipy.optimize import minimize_scalar, brute, dual_annealing\n",
    "import pygad\n",
    "from importlib import reload\n",
    "from IPython.display import clear_output\n",
    "\n",
    "import tgs \n",
    "import rgs \n",
    "\n",
    "reload(tgs)\n",
    "reload(rgs)"
   ]
  },
  {
   "cell_type": "code",
   "execution_count": 94,
   "metadata": {},
   "outputs": [],
   "source": [
    "L_ATT = 20e3\n",
    "def negative_key_rate_given_m(m, *params):\n",
    "    L, time, L_delay, T_SPIN_COH, b0, b1, b2 = params\n",
    "    miu = tgs.Miu(L, L_ATT, L_delay=L_delay, m=m)\n",
    "    tree = tgs.Tree_ancilla(np.array([b0, b1, b2]), miu=miu)\n",
    "    error = tgs.Error(tree, time, t_spin_coherence=T_SPIN_COH)\n",
    "    result = -tgs.effective_key_rate(tree, time, error, m, 2)\n",
    "    if result > 0.:\n",
    "        return 0.\n",
    "    return result\n",
    "    \n",
    "def tgs_negative_keyrate_given_branch(BRANCH_PARAM, *params):\n",
    "    params = params + tuple(BRANCH_PARAM)\n",
    "    # print(params)\n",
    "    res_high = minimize_scalar(negative_key_rate_given_m, bounds=(100., 1000.), args=params, method=\"Bounded\")\n",
    "    res_i = res_high\n",
    "    if res_high.fun > -1.:\n",
    "        res_low = minimize_scalar(negative_key_rate_given_m, bounds=(1., 100.), args=params, method=\"Bounded\")\n",
    "        if res_low.fun < res_high.fun:\n",
    "            res_i = res_low\n",
    "    return res_i.fun\n",
    "    ...\n",
    "\n"
   ]
  },
  {
   "cell_type": "code",
   "execution_count": null,
   "metadata": {},
   "outputs": [],
   "source": [
    "GAMMA = np.array([2e9, 100e9, 170e6, 100e9]) * 2 * np.pi\n",
    "T_SPIN_COHERENCE = [13e-3, 4e-6, 1., 1.]\n",
    "BRANCH_PARAM = [np.array([4,16,5]), np.array([1,1,19]), np.array([4,18,5]), np.array([4,16,5])]\n",
    "\n",
    "for i in range(4):\n",
    "    res = []\n",
    "    time = tgs.Time(GAMMA[i])\n",
    "    params = 1000e3, time, 0., T_SPIN_COHERENCE[i], BRANCH_PARAM[i][0], BRANCH_PARAM[i][1], BRANCH_PARAM[i][2]\n",
    "    # print(params)\n",
    "    res_high = minimize_scalar(negative_key_rate_given_m, bounds=(100., 1000.), args=params, method=\"Bounded\")\n",
    "    res_i = res_high\n",
    "    if res_high.fun > -1.:\n",
    "        res_low = minimize_scalar(negative_key_rate_given_m, bounds=(1., 100.), args=params, method=\"Bounded\")\n",
    "        if res_low.fun < res_high.fun:\n",
    "            res_i = res_low\n",
    "\n",
    "    # res_i = dual_annealing(negative_key_rate_given_m, bounds=[(10., 700.)], args=params, x0=[500.])\n",
    "    res.append(res_i)\n",
    "    print(res_i.fun)\n",
    "\n"
   ]
  },
  {
   "cell_type": "code",
   "execution_count": null,
   "metadata": {},
   "outputs": [],
   "source": [
    "BRANCH_ranges = (slice(4, 5, 1), slice(1, 20, 1), slice(1, 6, 1))\n",
    "for i in range (4):\n",
    "    res = []\n",
    "    time = tgs.Time(GAMMA[i])\n",
    "    params = 1000e3, time, 0., T_SPIN_COHERENCE[i]\n",
    "    resbrute = brute(tgs_negative_keyrate_given_branch, BRANCH_ranges, args=params, full_output=True, finish=None)\n",
    "    res.append(resbrute)\n",
    "    print(resbrute[0])"
   ]
  },
  {
   "cell_type": "code",
   "execution_count": 594,
   "metadata": {},
   "outputs": [],
   "source": [
    "def tgs_positive_keyrate_given_branch(BRANCH_PARAM, *params):\n",
    "    params = params + tuple(BRANCH_PARAM)\n",
    "    res_high = minimize_scalar(negative_key_rate_given_m, bounds=(1., 1000.), args=params, method=\"Bounded\")\n",
    "    res_i = res_high\n",
    "    if res_high.fun > -1.:\n",
    "        res_low = minimize_scalar(negative_key_rate_given_m, bounds=(1., 100.), args=params, method=\"Bounded\")\n",
    "        if res_low.fun < res_high.fun:\n",
    "            res_i = res_low\n",
    "    return float(-res_i.fun)\n",
    "\n",
    "\n",
    "PARAMS = 1000e3, tgs.Time(GAMMA[0]), 0., T_SPIN_COHERENCE[0]\n",
    "def fitness_func(ga_instance, solution, solution_idx):\n",
    "    value = tgs_positive_keyrate_given_branch(solution, *PARAMS)\n",
    "    value = np.nan_to_num(value)\n",
    "    # print(solution[0], solution[1], solution[2], value)\n",
    "    return value\n",
    "\n",
    "def diversity(ga_instance, K=4):\n",
    "     index_k_best_list = sorted(range(ga_instance.pop_size[0]), key = lambda sub: ga_instance.last_generation_fitness[sub])[-K:]\n",
    "     worst_solution = ga_instance.population[index_k_best_list[0]][:-1] # compare the branch paramaters\n",
    "     best_solution = ga_instance.population[index_k_best_list[-1]][:-1]\n",
    "\n",
    "     sum_diff = np.sum(np.abs(best_solution-worst_solution))\n",
    "     return sum_diff\n",
    "\n",
    "def on_gen(ga_instance):\n",
    "    if int(ga_instance.generations_completed) % 2 == 0:\n",
    "        clear_output(wait=True)\n",
    "\n",
    "    print(\"Generation : \", ga_instance.generations_completed, flush=True)\n",
    "    print(\"Fitness of the best solution :\", ga_instance.best_solution()[0])\n",
    "\n",
    "\n",
    "num_generations = 10\n",
    "num_parents_mating = 4\n",
    "\n",
    "fitness_function = fitness_func\n",
    "\n",
    "sol_per_pop = 10 # number of solutions within the population\n",
    "num_genes = 3 # the function inputs\n",
    "gene_type = int # input type\n",
    "gene_space = range(21) # specify the possible values for each gene\n",
    "\n",
    "init_range_low = 1\n",
    "init_range_high = 10\n",
    "\n",
    "parent_selection_type = \"sss\"\n",
    "keep_parents = -1 # Number of parents to keep in the current population\n",
    "keep_elitism = 1 # only the best solution in the current generation is kept in the next generation.\n",
    "\n",
    "crossover_type = \"single_point\" \n",
    "\n",
    "mutation_type = \"random\"\n",
    "\n",
    "mutation_percent_genes = 10."
   ]
  },
  {
   "cell_type": "code",
   "execution_count": 623,
   "metadata": {},
   "outputs": [],
   "source": [
    "def key_rate_unpack(solution, *params):\n",
    "    b0, b1, b2, m = solution\n",
    "    L, time, L_delay, T_SPIN_COH = params\n",
    "    miu = tgs.Miu(L, L_ATT, L_delay=L_delay, m=m)\n",
    "    tree = tgs.Tree_ancilla(np.array([b0, b1, b2]), miu=miu)\n",
    "    error = tgs.Error(tree, time, t_spin_coherence=T_SPIN_COH)\n",
    "    result = tgs.effective_key_rate(tree, time, error, m, 2)\n",
    "    if result < 0. :\n",
    "        return 0.\n",
    "    return float(np.nan_to_num(result))\n",
    "\n",
    "def fitness_func_with_m(ga_instance, solution, solution_idx):\n",
    "    return key_rate_unpack(solution, *PARAMS)\n",
    "\n",
    "def tgs_optimized_key_rate_wrt_m(branch_param, m0, *params):\n",
    "    params = params + tuple(branch_param)\n",
    "    res = minimize_scalar(negative_key_rate_given_m, bounds=(max(m0-500, 0.), min(m0+500, 2000.)), args=params, method=\"Bounded\")\n",
    "    return float(-res.fun), res.x\n",
    "\n",
    "def on_fitness(ga_instance, population_fitness):\n",
    "    # find indices of k_best population_fitness solutions\n",
    "    K=4\n",
    "\n",
    "    index_k_best_list = sorted(range(ga_instance.pop_size[0]), key = lambda sub: population_fitness[sub])[-K:]\n",
    "    div = diversity(ga_instance, K)\n",
    "\n",
    "    if ga_instance.generations_completed > 10 or div<=2: \n",
    "        for i in index_k_best_list:\n",
    "            # Refine the key rates and m for these good candidates\n",
    "            branch_param = ga_instance.population[i][:-1]\n",
    "            m = ga_instance.population[i][-1]\n",
    "            print(f\"Branch paramaters: {branch_param}\")\n",
    "            print(f\"Before: m={m}, fitness={ga_instance.last_generation_fitness[i]}\")\n",
    "            ga_instance.last_generation_fitness[i], ga_instance.population[i][-1] = tgs_optimized_key_rate_wrt_m(branch_param, m, *PARAMS)\n",
    "            m = ga_instance.population[i][-1]\n",
    "            print(f\"After:  m={m}, fitness={ga_instance.last_generation_fitness[i]}\")\n",
    "    \n",
    "    div = diversity(ga_instance, K)\n",
    "    print(f\"Diversity of this generation: {div}\")\n",
    "    if div == 0 and ga_instance.mutation_percent_genes <= 40.:\n",
    "        ga_instance.mutation_percent_genes += 1.5\n",
    "    if div >= 2 and ga_instance.generations_completed > 5:\n",
    "        ga_instance.mutation_percent_genes -= 2.\n",
    "    print(\"Mutation_percent_genes for this generation = \", ga_instance.mutation_percent_genes)\n",
    "\n",
    "        # Update m and the corresponding fitness\n",
    "        \n",
    "    ...\n",
    "\n",
    "num_generations = 20\n",
    "num_parents_mating = 8\n",
    "\n",
    "fitness_function = fitness_func_with_m\n",
    "\n",
    "sol_per_pop = 80 # number of solutions within the population (initially)\n",
    "num_genes = 4 # the function inputs\n",
    "gene_type = [int, int, int, float] # input type\n",
    "gene_space = [range(1, 11), range(1, 30), range(1, 30), {\"low\": 1., \"high\": 2000.}]  # specify the possible values for each gene\n",
    "\n",
    "init_range_low = 1\n",
    "init_range_high = 10\n",
    "\n",
    "parent_selection_type = \"sss\"\n",
    "keep_parents = -1 # Number of parents to keep in the current population\n",
    "keep_elitism = 1 # only the best solution in the current generation is kept in the next generation.\n",
    "\n",
    "crossover_type = \"single_point\" \n",
    "\n",
    "mutation_type = \"random\"\n",
    "\n",
    "mutation_percent_genes = 25.\n",
    "\n",
    "parallel_processing = [\"process\", 0]"
   ]
  },
  {
   "cell_type": "code",
   "execution_count": 621,
   "metadata": {},
   "outputs": [
    {
     "name": "stdout",
     "output_type": "stream",
     "text": [
      "Generation :  18\n",
      "Fitness of the best solution : [4 17 5 471.48261882016426055]\n"
     ]
    }
   ],
   "source": [
    "ga_instance = pygad.GA(num_generations=num_generations,\n",
    "                        num_parents_mating=num_parents_mating,\n",
    "                        fitness_func=fitness_function,\n",
    "                        sol_per_pop=sol_per_pop,\n",
    "                        num_genes=num_genes,\n",
    "                        gene_type=gene_type,\n",
    "                        gene_space=gene_space,\n",
    "                        init_range_low=init_range_low,\n",
    "                        init_range_high=init_range_high,\n",
    "                        parent_selection_type=parent_selection_type,\n",
    "                        keep_parents=keep_parents,\n",
    "                        keep_elitism=keep_elitism,\n",
    "                        crossover_type=crossover_type,\n",
    "                        mutation_type=mutation_type,\n",
    "                        mutation_percent_genes=mutation_percent_genes, \n",
    "                        \n",
    "                        on_generation=on_gen, on_fitness=on_fitness, parallel_processing=parallel_processing, save_solutions=True, stop_criteria=\"saturate_5\")\n",
    "\n",
    "ga_instance.run()"
   ]
  },
  {
   "cell_type": "code",
   "execution_count": 622,
   "metadata": {},
   "outputs": [
    {
     "name": "stderr",
     "output_type": "stream",
     "text": [
      "No handles with labels found to put in legend.\n"
     ]
    },
    {
     "data": {
      "image/png": "[encoded data removed]",
      "text/plain": [
       "<Figure size 432x288 with 1 Axes>"
      ]
     },
     "metadata": {
      "needs_background": "light"
     },
     "output_type": "display_data"
    },
    {
     "data": {
      "image/png": "[encoded data removed]",
      "text/plain": [
       "<Figure size 432x288 with 1 Axes>"
      ]
     },
     "execution_count": 622,
     "metadata": {},
     "output_type": "execute_result"
    }
   ],
   "source": [
    "ga_instance.plot_fitness()"
   ]
  }
 ],
 "metadata": {
  "kernelspec": {
   "display_name": "base",
   "language": "python",
   "name": "python3"
  },
  "language_info": {
   "codemirror_mode": {
    "name": "ipython",
    "version": 3
   },
   "file_extension": ".py",
   "mimetype": "text/x-python",
   "name": "python",
   "nbconvert_exporter": "python",
   "pygments_lexer": "ipython3",
   "version": "3.9.7"
  }
 },
 "nbformat": 4,
 "nbformat_minor": 2
}
