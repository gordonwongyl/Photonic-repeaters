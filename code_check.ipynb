{
 "cells": [
  {
   "cell_type": "code",
   "execution_count": 1,
   "metadata": {},
   "outputs": [],
   "source": [
    "import numpy as np"
   ]
  },
  {
   "cell_type": "code",
   "execution_count": 31,
   "metadata": {},
   "outputs": [
    {
     "name": "stdout",
     "output_type": "stream",
     "text": [
      "1.9650996989639679668e-06\n",
      "6.665029859920235e-05\n"
     ]
    }
   ],
   "source": [
    "miu_set = [np.float128(0.2), 0.27]\n",
    "e_m_set = [2.8e-5, 5.6e-5]\n",
    "BRANCH_PARAM = [[np.array([16,14,1,0], dtype=int), np.array([11, 11, 1, 0])], \n",
    "                [np.array([17,28,2,0]), np.array([12,23,2,0])]]\n",
    "\n",
    "b = BRANCH_PARAM[0][0] \n",
    "depth = 3\n",
    "R = np.zeros(depth + 3)\n",
    "miu = miu_set[0]\n",
    "\n",
    "for i in range(depth-1, -1, -1): # d-1 ... 0\n",
    "    # if i == depth-1: \n",
    "    #     print(i)\n",
    "    #     R_i_plus_2 = 0.\n",
    "    #     b_i_plus_1 = 0. # no qubits at depth+1 level\n",
    "    #     # R[i] = 0\n",
    "    #     # continue\n",
    "    # elif i == depth-2: \n",
    "    #     R_i_plus_2 = 0. # qubits at the last level cannot be indirectly measured\n",
    "    #     b_i_plus_1 = b[i+1] \n",
    "    # else:\n",
    "    #     print(i)\n",
    "    b_i_plus_1 = b[i+1] \n",
    "    R_i_plus_2 = R[i+2] \n",
    "    \n",
    "    # print(R_i_plus_2)\n",
    "    # print(b_i_plus_1)\n",
    "\n",
    "    R[i] = 1 - (1 - (1-miu) * (1-miu+miu*R_i_plus_2)**b_i_plus_1)**b[i] # confirm this\n",
    "\n",
    "# Success probability between neighbouring nodes (eq. 3, without ^m+1)\n",
    "if depth >= 3:\n",
    "    R_2 = R[2] \n",
    "else:   \n",
    "    R_2 = 0.\n",
    "P_succ = ((1-miu+miu*R[1])**b[0] - (miu*R[1])**b[0])*(1-miu+miu*R_2)**b[1]\n",
    "\n",
    "print(1 - (1 - miu + miu*R[1])**b[0])\n",
    "print(1 - R[0])"
   ]
  }
 ],
 "metadata": {
  "kernelspec": {
   "display_name": "base",
   "language": "python",
   "name": "python3"
  },
  "language_info": {
   "codemirror_mode": {
    "name": "ipython",
    "version": 3
   },
   "file_extension": ".py",
   "mimetype": "text/x-python",
   "name": "python",
   "nbconvert_exporter": "python",
   "pygments_lexer": "ipython3",
   "version": "3.9.7"
  }
 },
 "nbformat": 4,
 "nbformat_minor": 2
}
