{
 "cells": [
  {
   "cell_type": "code",
   "execution_count": 39,
   "metadata": {},
   "outputs": [],
   "source": [
    "import numpy as np\n",
    "from sympy import *"
   ]
  },
  {
   "cell_type": "code",
   "execution_count": 40,
   "metadata": {},
   "outputs": [],
   "source": [
    "# composition of channels\n",
    "P, ep_x, ep_y, ep_z = symbols(\"\\mathcal{P} \\epsilon_x \\epsilon_y \\epsilon_z\")\n",
    "\n",
    "# exaustive search for gates application X[i] = index of X \\sigma_i\n",
    "Y = (2, 3, 0, 1)\n",
    "X = (1, 0, 3, 2)\n",
    "Z = (3, 2, 1, 0)\n",
    "\n",
    "result = []\n",
    "for i in range(4):\n",
    "    for y in range(2):\n",
    "        for x in range(2):\n",
    "            for z in range(2):\n",
    "                path = (i, y, x, z)\n",
    "                pos = i\n",
    "                if y:\n",
    "                    pos = Y[pos]\n",
    "                if x:\n",
    "                    pos = X[pos]\n",
    "                if z:\n",
    "                    pos = Z[pos]\n",
    "                \n",
    "                result.append([path, pos])\n"
   ]
  },
  {
   "cell_type": "code",
   "execution_count": 41,
   "metadata": {},
   "outputs": [
    {
     "data": {
      "text/plain": [
       "[(0, 0, 1, 0),\n",
       " (0, 1, 0, 1),\n",
       " (1, 0, 0, 0),\n",
       " (1, 1, 1, 1),\n",
       " (2, 0, 0, 1),\n",
       " (2, 1, 1, 0),\n",
       " (3, 0, 1, 1),\n",
       " (3, 1, 0, 0)]"
      ]
     },
     "metadata": {},
     "output_type": "display_data"
    },
    {
     "data": {
      "text/plain": [
       "[(0, 0, 1, 1),\n",
       " (0, 1, 0, 0),\n",
       " (1, 0, 0, 1),\n",
       " (1, 1, 1, 0),\n",
       " (2, 0, 0, 0),\n",
       " (2, 1, 1, 1),\n",
       " (3, 0, 1, 0),\n",
       " (3, 1, 0, 1)]"
      ]
     },
     "metadata": {},
     "output_type": "display_data"
    },
    {
     "data": {
      "text/plain": [
       "[(0, 0, 0, 1),\n",
       " (0, 1, 1, 0),\n",
       " (1, 0, 1, 1),\n",
       " (1, 1, 0, 0),\n",
       " (2, 0, 1, 0),\n",
       " (2, 1, 0, 1),\n",
       " (3, 0, 0, 0),\n",
       " (3, 1, 1, 1)]"
      ]
     },
     "metadata": {},
     "output_type": "display_data"
    }
   ],
   "source": [
    "x_flip = [path[0] for path in result if path[-1] == 1]\n",
    "y_flip = [path[0] for path in result if path[-1] == 2]\n",
    "z_flip = [path[0] for path in result if path[-1] == 3]\n",
    "display(x_flip)\n",
    "display(y_flip)\n",
    "display(z_flip)"
   ]
  },
  {
   "cell_type": "code",
   "execution_count": 42,
   "metadata": {},
   "outputs": [
    {
     "data": {
      "text/latex": [
       "$\\displaystyle - \\frac{\\epsilon_{x}^{2} \\mathcal{P}}{4} + \\frac{\\epsilon_{x}^{2}}{4} - \\frac{\\epsilon_{x} \\epsilon_{y} \\mathcal{P}}{2} + \\frac{\\epsilon_{x} \\epsilon_{y}}{2} + \\frac{1}{4}$"
      ],
      "text/plain": [
       "-\\epsilon_x**2*\\mathcal{P}/4 + \\epsilon_x**2/4 - \\epsilon_x*\\epsilon_y*\\mathcal{P}/2 + \\epsilon_x*\\epsilon_y/2 + 1/4"
      ]
     },
     "execution_count": 42,
     "metadata": {},
     "output_type": "execute_result"
    }
   ],
   "source": [
    "# Example using RGS error\n",
    "E_x = 0\n",
    "for path in x_flip:\n",
    "    expr = 1\n",
    "    if path[0] != 0:\n",
    "        expr *= P/4\n",
    "    else:\n",
    "         expr *= 1 - 3*P/4\n",
    "    if path[1] != 0:\n",
    "        expr *= (1 - ep_y)/2\n",
    "    else:\n",
    "         expr *= (1 + ep_y)/2\n",
    "    if path[2] != 0:\n",
    "        expr *= (1 - ep_x)/2\n",
    "    else:\n",
    "         expr *= (1 + ep_x)/2\n",
    "    if path[3] != 0:\n",
    "        expr *= (1 - ep_z)/2\n",
    "    else:\n",
    "         expr *= (1 + ep_z)/2\n",
    "    E_x += expr\n",
    "E_y = 0\n",
    "for path in y_flip:\n",
    "    expr = 1\n",
    "    if path[0] != 0:\n",
    "        expr *= P/4\n",
    "    else:\n",
    "         expr *= 1 - 3*P/4\n",
    "    if path[1] != 0:\n",
    "        expr *= (1 - ep_y)/2\n",
    "    else:\n",
    "         expr *= (1 + ep_y)/2\n",
    "    if path[2] != 0:\n",
    "        expr *= (1 - ep_x)/2\n",
    "    else:\n",
    "         expr *= (1 + ep_x)/2\n",
    "    if path[3] != 0:\n",
    "        expr *= (1 - ep_z)/2\n",
    "    else:\n",
    "         expr *= (1 + ep_z)/2\n",
    "    E_y += expr\n",
    "E_z = 0\n",
    "for path in z_flip:\n",
    "    expr = 1\n",
    "    if path[0] != 0:\n",
    "        expr *= P/4\n",
    "    else:\n",
    "         expr *= 1 - 3*P/4\n",
    "    if path[1] != 0:\n",
    "        expr *= (1 - ep_y)/2\n",
    "    else:\n",
    "         expr *= (1 + ep_y)/2\n",
    "    if path[2] != 0:\n",
    "        expr *= (1 - ep_x)/2\n",
    "    else:\n",
    "         expr *= (1 + ep_x)/2\n",
    "    if path[3] != 0:\n",
    "        expr *= (1 - ep_z)/2\n",
    "    else:\n",
    "         expr *= (1 + ep_z)/2\n",
    "    E_z += expr\n",
    "E_x = collect(simplify(E_x.subs(ep_z, ep_x)), P)\n",
    "E_y = collect(simplify(E_y.subs(ep_z, ep_x)),P)\n",
    "E_z = collect(simplify(E_z.subs(ep_z, ep_x)),P)\n",
    "F = 1 - E_x - E_z - E_y\n",
    "simplify(F)"
   ]
  },
  {
   "cell_type": "code",
   "execution_count": 43,
   "metadata": {},
   "outputs": [
    {
     "data": {
      "text/latex": [
       "$\\displaystyle \\frac{\\left(1 - 2 e_{X}\\right)^{2 n}}{4} - \\frac{\\left(1 - 2 e_{X}\\right)^{n} \\left(1 - 2 e_{Z}\\right)^{2 n \\left(m - 1\\right)}}{2} + \\frac{\\left(1 - 2 e_{X}\\right)^{n} \\left(\\left(1 - 2 e_{X}\\right)^{n} - 2 \\left(1 - 2 e_{Z}\\right)^{2 n \\left(m - 1\\right)}\\right) \\left(\\left(1 - 2 e_{m}\\right)^{2 n + 2} - 1\\right)}{4} + \\frac{1}{4}$"
      ],
      "text/plain": [
       "(1 - 2*e_X)**(2*n)/4 - (1 - 2*e_X)**n*(1 - 2*e_Z)**(2*n*(m - 1))/2 + (1 - 2*e_X)**n*((1 - 2*e_X)**n - 2*(1 - 2*e_Z)**(2*n*(m - 1)))*((1 - 2*e_m)**(2*n + 2) - 1)/4 + 1/4"
      ]
     },
     "execution_count": 43,
     "metadata": {},
     "output_type": "execute_result"
    }
   ],
   "source": [
    "# Include Error from BSM \n",
    "e_m, e_dc = symbols(\"e_m e_{dc}\")\n",
    "e_X, e_Z = symbols(\"e_X e_Z\")\n",
    "n, m = symbols(\"n m\")\n",
    "# expr = 1 - (1-2*e_m)**(2*(n+1))*(1-2*e_dc)**(n+1) # additional depolarizing error\n",
    "expr = 1 - (1-2*e_m)**(2*(n+1))\n",
    "sub_list = [(P, expr), (ep_x, (1-2*e_X)**n), (ep_y, (1-2*e_Z)**((2*m-2)*n))]\n",
    "\n",
    "E_x = simplify(E_x.subs(sub_list))\n",
    "E_y = simplify(E_y.subs(sub_list))\n",
    "E_z = E_x\n",
    "E_y"
   ]
  },
  {
   "cell_type": "code",
   "execution_count": 44,
   "metadata": {},
   "outputs": [
    {
     "data": {
      "text/plain": [
       "[(0, 1, 0), (1, 0, 0), (2, 0, 1), (3, 1, 1)]"
      ]
     },
     "metadata": {},
     "output_type": "display_data"
    },
    {
     "data": {
      "text/plain": [
       "[(0, 1, 1), (1, 0, 1), (2, 0, 0), (3, 1, 0)]"
      ]
     },
     "metadata": {},
     "output_type": "display_data"
    },
    {
     "data": {
      "text/plain": [
       "[(0, 0, 1), (1, 1, 1), (2, 1, 0), (3, 0, 0)]"
      ]
     },
     "metadata": {},
     "output_type": "display_data"
    }
   ],
   "source": [
    "result = []\n",
    "for i in range(4):\n",
    "        for x in range(2):\n",
    "            for z in range(2):\n",
    "                path = (i, x, z)\n",
    "                pos = i\n",
    "                if x:\n",
    "                    pos = X[pos]\n",
    "                if z:\n",
    "                    pos = Z[pos]\n",
    "                \n",
    "                result.append([path, pos])\n",
    "\n",
    "x_flip = [path[0] for path in result if path[-1] == 1]\n",
    "y_flip = [path[0] for path in result if path[-1] == 2]\n",
    "z_flip = [path[0] for path in result if path[-1] == 3]\n",
    "display(x_flip)\n",
    "display(y_flip)\n",
    "display(z_flip)\n",
    "\n",
    "E_x = 0\n",
    "for path in x_flip:\n",
    "    expr = 1\n",
    "    if path[0] != 0:\n",
    "        expr *= P/4\n",
    "    else:\n",
    "         expr *= 1 - 3*P/4\n",
    "    if path[1] != 0:\n",
    "        expr *= (1 - ep_x)/2\n",
    "    else:\n",
    "         expr *= (1 + ep_x)/2\n",
    "    if path[2] != 0:\n",
    "        expr *= (1 - ep_z)/2\n",
    "    else:\n",
    "         expr *= (1 + ep_z)/2\n",
    "    E_x += expr\n",
    "E_y = 0\n",
    "for path in y_flip:\n",
    "    expr = 1\n",
    "    if path[0] != 0:\n",
    "        expr *= P/4\n",
    "    else:\n",
    "         expr *= 1 - 3*P/4\n",
    "    if path[1] != 0:\n",
    "        expr *= (1 - ep_x)/2\n",
    "    else:\n",
    "         expr *= (1 + ep_x)/2\n",
    "    if path[2] != 0:\n",
    "        expr *= (1 - ep_z)/2\n",
    "    else:\n",
    "         expr *= (1 + ep_z)/2\n",
    "    E_y += expr\n",
    "E_z = 0\n",
    "for path in z_flip:\n",
    "    expr = 1\n",
    "    if path[0] != 0:\n",
    "        expr *= P/4\n",
    "    else:\n",
    "         expr *= 1 - 3*P/4\n",
    "    if path[1] != 0:\n",
    "        expr *= (1 - ep_x)/2\n",
    "    else:\n",
    "         expr *= (1 + ep_x)/2\n",
    "    if path[2] != 0:\n",
    "        expr *= (1 - ep_z)/2\n",
    "    else:\n",
    "         expr *= (1 + ep_z)/2\n",
    "    E_z += expr"
   ]
  },
  {
   "cell_type": "code",
   "execution_count": 45,
   "metadata": {},
   "outputs": [
    {
     "data": {
      "text/latex": [
       "$\\displaystyle - \\frac{\\epsilon_{x} \\epsilon_{z} \\mathcal{P}}{4} + \\frac{\\epsilon_{x} \\epsilon_{z}}{4} - \\frac{\\epsilon_{x} \\mathcal{P}}{4} + \\frac{\\epsilon_{x}}{4} - \\frac{\\epsilon_{z} \\mathcal{P}}{4} + \\frac{\\epsilon_{z}}{4} + \\frac{1}{4}$"
      ],
      "text/plain": [
       "-\\epsilon_x*\\epsilon_z*\\mathcal{P}/4 + \\epsilon_x*\\epsilon_z/4 - \\epsilon_x*\\mathcal{P}/4 + \\epsilon_x/4 - \\epsilon_z*\\mathcal{P}/4 + \\epsilon_z/4 + 1/4"
      ]
     },
     "execution_count": 45,
     "metadata": {},
     "output_type": "execute_result"
    }
   ],
   "source": [
    "F = simplify(1 - E_x - E_y - E_z)\n",
    "F"
   ]
  },
  {
   "cell_type": "code",
   "execution_count": 46,
   "metadata": {},
   "outputs": [
    {
     "data": {
      "text/latex": [
       "$\\displaystyle - \\frac{\\left(1 - 2 \\epsilon_{X}\\right)^{m + 1} \\left(1 - 2 \\epsilon_{Z}\\right)^{m + 1}}{4} - \\frac{\\left(1 - 2 \\epsilon_{X}\\right)^{m + 1}}{4} + \\frac{\\left(1 - 2 \\epsilon_{Z}\\right)^{m + 1}}{4} - \\frac{\\left(\\left(1 - 2 \\epsilon_{m}\\right)^{m + 1} - 1\\right) \\left(\\left(1 - 2 \\epsilon_{X}\\right)^{m + 1} \\left(1 - 2 \\epsilon_{Z}\\right)^{m + 1} + \\left(1 - 2 \\epsilon_{X}\\right)^{m + 1} - \\left(1 - 2 \\epsilon_{Z}\\right)^{m + 1}\\right)}{4} + \\frac{1}{4}$"
      ],
      "text/plain": [
       "-(1 - 2*\\epsilon_X)**(m + 1)*(1 - 2*\\epsilon_Z)**(m + 1)/4 - (1 - 2*\\epsilon_X)**(m + 1)/4 + (1 - 2*\\epsilon_Z)**(m + 1)/4 - ((1 - 2*\\epsilon_m)**(m + 1) - 1)*((1 - 2*\\epsilon_X)**(m + 1)*(1 - 2*\\epsilon_Z)**(m + 1) + (1 - 2*\\epsilon_X)**(m + 1) - (1 - 2*\\epsilon_Z)**(m + 1))/4 + 1/4"
      ]
     },
     "metadata": {},
     "output_type": "display_data"
    },
    {
     "data": {
      "text/latex": [
       "$\\displaystyle \\frac{\\left(1 - 2 \\epsilon_{X}\\right)^{m + 1} \\left(1 - 2 \\epsilon_{Z}\\right)^{m + 1}}{4} - \\frac{\\left(1 - 2 \\epsilon_{X}\\right)^{m + 1}}{4} - \\frac{\\left(1 - 2 \\epsilon_{Z}\\right)^{m + 1}}{4} - \\frac{\\left(\\left(1 - 2 \\epsilon_{m}\\right)^{m + 1} - 1\\right) \\left(- \\left(1 - 2 \\epsilon_{X}\\right)^{m + 1} \\left(1 - 2 \\epsilon_{Z}\\right)^{m + 1} + \\left(1 - 2 \\epsilon_{X}\\right)^{m + 1} + \\left(1 - 2 \\epsilon_{Z}\\right)^{m + 1}\\right)}{4} + \\frac{1}{4}$"
      ],
      "text/plain": [
       "(1 - 2*\\epsilon_X)**(m + 1)*(1 - 2*\\epsilon_Z)**(m + 1)/4 - (1 - 2*\\epsilon_X)**(m + 1)/4 - (1 - 2*\\epsilon_Z)**(m + 1)/4 - ((1 - 2*\\epsilon_m)**(m + 1) - 1)*(-(1 - 2*\\epsilon_X)**(m + 1)*(1 - 2*\\epsilon_Z)**(m + 1) + (1 - 2*\\epsilon_X)**(m + 1) + (1 - 2*\\epsilon_Z)**(m + 1))/4 + 1/4"
      ]
     },
     "metadata": {},
     "output_type": "display_data"
    },
    {
     "data": {
      "text/latex": [
       "$\\displaystyle - \\frac{\\left(1 - 2 \\epsilon_{X}\\right)^{m + 1} \\left(1 - 2 \\epsilon_{Z}\\right)^{m + 1}}{4} + \\frac{\\left(1 - 2 \\epsilon_{X}\\right)^{m + 1}}{4} - \\frac{\\left(1 - 2 \\epsilon_{Z}\\right)^{m + 1}}{4} - \\frac{\\left(\\left(1 - 2 \\epsilon_{m}\\right)^{m + 1} - 1\\right) \\left(\\left(1 - 2 \\epsilon_{X}\\right)^{m + 1} \\left(1 - 2 \\epsilon_{Z}\\right)^{m + 1} - \\left(1 - 2 \\epsilon_{X}\\right)^{m + 1} + \\left(1 - 2 \\epsilon_{Z}\\right)^{m + 1}\\right)}{4} + \\frac{1}{4}$"
      ],
      "text/plain": [
       "-(1 - 2*\\epsilon_X)**(m + 1)*(1 - 2*\\epsilon_Z)**(m + 1)/4 + (1 - 2*\\epsilon_X)**(m + 1)/4 - (1 - 2*\\epsilon_Z)**(m + 1)/4 - ((1 - 2*\\epsilon_m)**(m + 1) - 1)*((1 - 2*\\epsilon_X)**(m + 1)*(1 - 2*\\epsilon_Z)**(m + 1) - (1 - 2*\\epsilon_X)**(m + 1) + (1 - 2*\\epsilon_Z)**(m + 1))/4 + 1/4"
      ]
     },
     "metadata": {},
     "output_type": "display_data"
    },
    {
     "data": {
      "text/latex": [
       "$\\displaystyle \\frac{\\left(1 - 2 \\epsilon_{X}\\right) \\left(1 - 2 \\epsilon_{X}\\right)^{m} \\left(1 - 2 \\epsilon_{Z}\\right) \\left(1 - 2 \\epsilon_{Z}\\right)^{m} \\left(1 - 2 \\epsilon_{m}\\right) \\left(1 - 2 \\epsilon_{m}\\right)^{m}}{6} + \\frac{\\left(1 - 2 \\epsilon_{X}\\right) \\left(1 - 2 \\epsilon_{X}\\right)^{m} \\left(1 - 2 \\epsilon_{m}\\right) \\left(1 - 2 \\epsilon_{m}\\right)^{m}}{6} + \\frac{\\left(1 - 2 \\epsilon_{Z}\\right) \\left(1 - 2 \\epsilon_{Z}\\right)^{m} \\left(1 - 2 \\epsilon_{m}\\right) \\left(1 - 2 \\epsilon_{m}\\right)^{m}}{6} + \\frac{1}{2}$"
      ],
      "text/plain": [
       "(1 - 2*\\epsilon_X)*(1 - 2*\\epsilon_X)**m*(1 - 2*\\epsilon_Z)*(1 - 2*\\epsilon_Z)**m*(1 - 2*\\epsilon_m)*(1 - 2*\\epsilon_m)**m/6 + (1 - 2*\\epsilon_X)*(1 - 2*\\epsilon_X)**m*(1 - 2*\\epsilon_m)*(1 - 2*\\epsilon_m)**m/6 + (1 - 2*\\epsilon_Z)*(1 - 2*\\epsilon_Z)**m*(1 - 2*\\epsilon_m)*(1 - 2*\\epsilon_m)**m/6 + 1/2"
      ]
     },
     "metadata": {},
     "output_type": "display_data"
    },
    {
     "data": {
      "text/latex": [
       "$\\displaystyle - \\frac{4 \\epsilon_{X} \\epsilon_{Z} \\epsilon_{m}}{3} + \\frac{2 \\epsilon_{X} \\epsilon_{Z}}{3} + \\frac{4 \\epsilon_{X} \\epsilon_{m}}{3} - \\frac{2 \\epsilon_{X}}{3} + \\frac{4 \\epsilon_{Z} \\epsilon_{m}}{3} - \\frac{2 \\epsilon_{Z}}{3} - \\epsilon_{m} + 1$"
      ],
      "text/plain": [
       "-4*\\epsilon_X*\\epsilon_Z*\\epsilon_m/3 + 2*\\epsilon_X*\\epsilon_Z/3 + 4*\\epsilon_X*\\epsilon_m/3 - 2*\\epsilon_X/3 + 4*\\epsilon_Z*\\epsilon_m/3 - 2*\\epsilon_Z/3 - \\epsilon_m + 1"
      ]
     },
     "execution_count": 46,
     "metadata": {},
     "output_type": "execute_result"
    }
   ],
   "source": [
    "# e_sp, e_z, e_x, m = symbols(\"e_m e_Z e_X m\")\n",
    "e_sp, e_z, e_x, m = symbols(\"\\epsilon_m \\epsilon_Z \\epsilon_X m\")\n",
    "sub_list = [(P,1 - (1-2*e_sp)**(m+1)),\n",
    "            (ep_z, (1-2*e_z)**(m+1)), \n",
    "            (ep_x,(1-2*e_x)**(m+1))]\n",
    "\n",
    "E_x = simplify(collect(expand(simplify(E_x)),P))\n",
    "E_x = simplify(E_x.subs(sub_list))\n",
    "display(E_x)\n",
    "\n",
    "E_y = simplify(collect(expand(simplify(E_y)),P))\n",
    "E_y = simplify(E_y.subs(sub_list))\n",
    "display(E_y)\n",
    "\n",
    "E_z = simplify(collect(expand(simplify(E_z)),P))\n",
    "E_z = simplify(E_z.subs(sub_list))\n",
    "display(E_z)\n",
    "\n",
    "F = simplify(1-Rational(2,3)*(E_x+E_y+E_z))\n",
    "display(F)\n",
    "simplify(expand(F.subs(m, 0)))\n"
   ]
  },
  {
   "cell_type": "code",
   "execution_count": 47,
   "metadata": {},
   "outputs": [
    {
     "data": {
      "text/latex": [
       "$\\displaystyle - \\epsilon_{X} \\epsilon_{Z} e_{m} + \\epsilon_{X} \\epsilon_{Z} + \\epsilon_{X} e_{m} - \\epsilon_{X} + \\epsilon_{Z} e_{m} - \\epsilon_{Z} - e_{m} + 1$"
      ],
      "text/plain": [
       "-\\epsilon_X*\\epsilon_Z*e_m + \\epsilon_X*\\epsilon_Z + \\epsilon_X*e_m - \\epsilon_X + \\epsilon_Z*e_m - \\epsilon_Z - e_m + 1"
      ]
     },
     "execution_count": 47,
     "metadata": {},
     "output_type": "execute_result"
    }
   ],
   "source": [
    "expand((1-e_m)*(1-e_x)*(1-e_z))"
   ]
  }
 ],
 "metadata": {
  "kernelspec": {
   "display_name": "base",
   "language": "python",
   "name": "python3"
  },
  "language_info": {
   "codemirror_mode": {
    "name": "ipython",
    "version": 3
   },
   "file_extension": ".py",
   "mimetype": "text/x-python",
   "name": "python",
   "nbconvert_exporter": "python",
   "pygments_lexer": "ipython3",
   "version": "3.9.7"
  }
 },
 "nbformat": 4,
 "nbformat_minor": 2
}
