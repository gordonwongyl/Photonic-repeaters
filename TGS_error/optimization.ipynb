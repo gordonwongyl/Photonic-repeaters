{
 "cells": [
  {
   "cell_type": "code",
   "execution_count": 6,
   "metadata": {},
   "outputs": [
    {
     "data": {
      "text/plain": [
       "<module 'key_rate_optimization' from '/Users/gordonwongyl/Documents/ORF/TGS_error/key_rate_optimization.py'>"
      ]
     },
     "execution_count": 6,
     "metadata": {},
     "output_type": "execute_result"
    }
   ],
   "source": [
    "import numpy as np\n",
    "import matplotlib.pyplot as plt\n",
    "import pygad\n",
    "from importlib import reload\n",
    "from multiprocessing import Pool\n",
    "import pandas as pd \n",
    "import csv\n",
    "\n",
    "import tgs \n",
    "import rgs \n",
    "import key_rate_optimization as opt\n",
    "\n",
    "reload(tgs)\n",
    "reload(rgs)\n",
    "reload(opt)"
   ]
  },
  {
   "cell_type": "code",
   "execution_count": null,
   "metadata": {},
   "outputs": [],
   "source": [
    "# Set the paramaters for optimization\n",
    "# Values in Table 2\n",
    "GAMMA = np.array([2e9, 100e9, 170e6, 100e9]) * 2 * np.pi\n",
    "T_SPIN_COHERENCE = [13e-3, 4e-6, 1., 1.]\n",
    "routines = [opt.tgs_a_routine, opt.tgs_f_routine, opt.rgs_a_routine, opt.rgs_f_routine]\n",
    "inputs = [{\"rout\": rout, \"GAMMA\": GAMMA[0], \"T_SPIN_COHERENCE\": T_SPIN_COHERENCE[0], \"L\": 1000e3,  \"eta_d\": 1, \"p_dc\": 0, \"ep_depol\": 5e-5} for rout in routines]\n",
    "\n",
    "\n",
    "with Pool() as pool:\n",
    "    result = pool.map(opt.optimization, inputs)\n",
    "\n",
    "cols_name = ['rout', 'GAMMA', 'T_SPIN_COHERENCE', 'L', \n",
    "             'eta_d', 'p_dc', 'ep_depol',\n",
    "             'best_solutions_fitness', 'best_solution']\n",
    "\n",
    "with open('test.csv', 'w') as csvfile: \n",
    "    writer = csv.DictWriter(csvfile, fieldnames = cols_name) \n",
    "    writer.writeheader() \n",
    "    writer.writerows(result)  "
   ]
  },
  {
   "cell_type": "code",
   "execution_count": null,
   "metadata": {},
   "outputs": [],
   "source": [
    "GAMMA = 10**np.arange(4,15)*2*np.pi\n",
    "T_SPIN_COHERENCE = 10.**np.arange(-7,4)\n",
    "routines = [opt.tgs_a_routine, opt.tgs_f_routine]\n",
    "inputs = [{\"rout\": rout, \"GAMMA\": g, \"T_SPIN_COHERENCE\": t, \"L\": 1000e3, \"eta_d\": 1, \"p_dc\": 0, \"ep_depol\": 5e-5} for rout in routines for g in GAMMA for t in T_SPIN_COHERENCE ]\n",
    "with Pool() as pool:\n",
    "    result = pool.map(opt.optimization, inputs)\n",
    "\n",
    "cols_name = ['rout', 'GAMMA', 'T_SPIN_COHERENCE', 'L', \n",
    "             'eta_d', 'p_dc', 'ep_depol',\n",
    "             'best_solutions_fitness', 'best_solution']\n",
    "\n",
    "with open('opt_record_2D.csv', 'w') as csvfile: \n",
    "    writer = csv.DictWriter(csvfile, fieldnames = cols_name) \n",
    "    writer.writeheader() \n",
    "    writer.writerows(result)  "
   ]
  },
  {
   "cell_type": "code",
   "execution_count": 7,
   "metadata": {},
   "outputs": [
    {
     "data": {
      "text/plain": [
       "array([0.94, 0.95, 0.96, 0.97, 0.98, 0.99, 1.  ])"
      ]
     },
     "execution_count": 7,
     "metadata": {},
     "output_type": "execute_result"
    }
   ],
   "source": [
    "np.arange(0.94, 1., 0.01)"
   ]
  },
  {
   "cell_type": "code",
   "execution_count": null,
   "metadata": {},
   "outputs": [],
   "source": [
    "eta_d_list = np.arange(0.95, .99, 0.01)\n",
    "p_dc_list = np.logspace(-6, -4, 5)\n",
    "ep_depol_list = [5e-5, 1e-4, 2e-4]\n",
    "GAMMA = np.array([2e9, 100e9, 170e6, 100e9]) * 2 * np.pi\n",
    "T_SPIN_COHERENCE = [13e-3, 4e-6, 1., 1.]\n",
    "routines = [opt.tgs_a_routine, opt.tgs_f_routine, opt.rgs_a_routine, opt.rgs_f_routine]\n",
    "inputs = [{\"rout\": rout, \"GAMMA\": GAMMA[i], \"T_SPIN_COHERENCE\": T_SPIN_COHERENCE[i], \"L\": 1000e3, \n",
    "           \"eta_d\": eta_d, \"p_dc\": p_dc, \"ep_depol\": ep_depol_list[0]} for rout in routines for i in range(4) for eta_d in eta_d_list for p_dc in p_dc_list]\n",
    "with Pool() as pool:\n",
    "    result = pool.map(opt.optimization, inputs)\n",
    "    \n",
    "cols_name = ['rout', 'GAMMA', 'T_SPIN_COHERENCE', 'L', \n",
    "             'eta_d', 'p_dc', 'ep_depol',\n",
    "             'best_solutions_fitness', 'best_solution']\n",
    "\n",
    "with open('opt_record_detector_depol_5e-5_2D.csv', 'w') as csvfile: \n",
    "    writer = csv.DictWriter(csvfile, fieldnames = cols_name) \n",
    "    writer.writeheader() \n",
    "    writer.writerows(result)  \n",
    "    "
   ]
  },
  {
   "cell_type": "code",
   "execution_count": null,
   "metadata": {},
   "outputs": [],
   "source": []
  }
 ],
 "metadata": {
  "kernelspec": {
   "display_name": "base",
   "language": "python",
   "name": "python3"
  },
  "language_info": {
   "codemirror_mode": {
    "name": "ipython",
    "version": 3
   },
   "file_extension": ".py",
   "mimetype": "text/x-python",
   "name": "python",
   "nbconvert_exporter": "python",
   "pygments_lexer": "ipython3",
   "version": "3.9.7"
  }
 },
 "nbformat": 4,
 "nbformat_minor": 2
}
