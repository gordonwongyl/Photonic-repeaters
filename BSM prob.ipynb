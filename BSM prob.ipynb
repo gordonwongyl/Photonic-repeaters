{
 "cells": [
  {
   "cell_type": "code",
   "execution_count": 1,
   "metadata": {},
   "outputs": [],
   "source": [
    "import numpy as np\n",
    "from sympy import *"
   ]
  },
  {
   "cell_type": "code",
   "execution_count": 70,
   "metadata": {},
   "outputs": [
    {
     "data": {
      "text/latex": [
       "$\\displaystyle p_{dc}^{4} \\cdot \\left(2 \\eta_{d}^{2} \\eta_{t} - 2 \\eta_{d} \\eta_{t} - 2 \\eta_{d} + 2\\right) + p_{dc}^{3} \\left(- 5 \\eta_{d}^{2} \\eta_{t} + 5 \\eta_{d} \\eta_{t} + 5 \\eta_{d} - 4\\right) + p_{dc}^{2} \\cdot \\left(4 \\eta_{d}^{2} \\eta_{t} - 4 \\eta_{d} \\eta_{t} - 4 \\eta_{d} + 2\\right) + p_{dc} \\left(- \\eta_{d}^{2} \\eta_{t} + \\eta_{d} \\eta_{t} + \\eta_{d}\\right)$"
      ],
      "text/plain": [
       "p_{dc}**4*(2*eta_d**2*eta_t - 2*eta_d*eta_t - 2*eta_d + 2) + p_{dc}**3*(-5*eta_d**2*eta_t + 5*eta_d*eta_t + 5*eta_d - 4) + p_{dc}**2*(4*eta_d**2*eta_t - 4*eta_d*eta_t - 4*eta_d + 2) + p_{dc}*(-eta_d**2*eta_t + eta_d*eta_t + eta_d)"
      ]
     },
     "metadata": {},
     "output_type": "display_data"
    },
    {
     "data": {
      "text/latex": [
       "$\\displaystyle p_{dc} \\left(- \\eta_{d}^{2} \\eta_{t} + \\eta_{d} \\eta_{t} + \\eta_{d}\\right)$"
      ],
      "text/plain": [
       "p_{dc}*(-eta_d**2*eta_t + eta_d*eta_t + eta_d)"
      ]
     },
     "metadata": {},
     "output_type": "display_data"
    },
    {
     "data": {
      "text/latex": [
       "$\\displaystyle - \\eta_{d}^{2} \\eta_{t} + \\eta_{d} \\eta_{t} + \\eta_{d} + p_{dc}^{4} \\left(- 4 \\eta_{d}^{2} \\eta_{t} + 4 \\eta_{d} \\eta_{t} + 4 \\eta_{d} - 4\\right) + p_{dc}^{3} \\cdot \\left(13 \\eta_{d}^{2} \\eta_{t} - 13 \\eta_{d} \\eta_{t} - 13 \\eta_{d} + 12\\right) + p_{dc}^{2} \\left(- 15 \\eta_{d}^{2} \\eta_{t} + 15 \\eta_{d} \\eta_{t} + 15 \\eta_{d} - 12\\right) + p_{dc} \\left(7 \\eta_{d}^{2} \\eta_{t} - 7 \\eta_{d} \\eta_{t} - 7 \\eta_{d} + 4\\right)$"
      ],
      "text/plain": [
       "-eta_d**2*eta_t + eta_d*eta_t + eta_d + p_{dc}**4*(-4*eta_d**2*eta_t + 4*eta_d*eta_t + 4*eta_d - 4) + p_{dc}**3*(13*eta_d**2*eta_t - 13*eta_d*eta_t - 13*eta_d + 12) + p_{dc}**2*(-15*eta_d**2*eta_t + 15*eta_d*eta_t + 15*eta_d - 12) + p_{dc}*(7*eta_d**2*eta_t - 7*eta_d*eta_t - 7*eta_d + 4)"
      ]
     },
     "metadata": {},
     "output_type": "display_data"
    },
    {
     "data": {
      "text/latex": [
       "$\\displaystyle - \\eta_{d}^{2} \\eta_{t} + \\eta_{d} \\eta_{t} + \\eta_{d} + p_{dc} \\left(7 \\eta_{d}^{2} \\eta_{t} - 7 \\eta_{d} \\eta_{t} - 7 \\eta_{d} + 4\\right)$"
      ],
      "text/plain": [
       "-eta_d**2*eta_t + eta_d*eta_t + eta_d + p_{dc}*(7*eta_d**2*eta_t - 7*eta_d*eta_t - 7*eta_d + 4)"
      ]
     },
     "metadata": {},
     "output_type": "display_data"
    },
    {
     "data": {
      "text/latex": [
       "$\\displaystyle \\eta_{d}^{2} \\eta_{t} + p_{dc}^{4} \\cdot \\left(2 \\eta_{d}^{2} \\eta_{t} - 2 \\eta_{d} \\eta_{t} - 2 \\eta_{d} + 2\\right) + p_{dc}^{3} \\left(- 6 \\eta_{d}^{2} \\eta_{t} + 5 \\eta_{d} \\eta_{t} + 5 \\eta_{d} - 4\\right) + p_{dc}^{2} \\cdot \\left(7 \\eta_{d}^{2} \\eta_{t} - 4 \\eta_{d} \\eta_{t} - 4 \\eta_{d} + 2\\right) + p_{dc} \\left(- 4 \\eta_{d}^{2} \\eta_{t} + \\eta_{d} \\eta_{t} + \\eta_{d}\\right)$"
      ],
      "text/plain": [
       "eta_d**2*eta_t + p_{dc}**4*(2*eta_d**2*eta_t - 2*eta_d*eta_t - 2*eta_d + 2) + p_{dc}**3*(-6*eta_d**2*eta_t + 5*eta_d*eta_t + 5*eta_d - 4) + p_{dc}**2*(7*eta_d**2*eta_t - 4*eta_d*eta_t - 4*eta_d + 2) + p_{dc}*(-4*eta_d**2*eta_t + eta_d*eta_t + eta_d)"
      ]
     },
     "metadata": {},
     "output_type": "display_data"
    },
    {
     "data": {
      "text/latex": [
       "$\\displaystyle \\eta_{d}^{2} \\eta_{t} + p_{dc} \\left(- 4 \\eta_{d}^{2} \\eta_{t} + \\eta_{d} \\eta_{t} + \\eta_{d}\\right)$"
      ],
      "text/plain": [
       "eta_d**2*eta_t + p_{dc}*(-4*eta_d**2*eta_t + eta_d*eta_t + eta_d)"
      ]
     },
     "metadata": {},
     "output_type": "display_data"
    },
    {
     "data": {
      "text/latex": [
       "$\\displaystyle p_{dc}^{4} \\cdot \\left(2 \\eta_{d}^{2} \\eta_{t} - 2 \\eta_{d} \\eta_{t} - 2 \\eta_{d} + 2\\right) + p_{dc}^{3} \\left(- 6 \\eta_{d}^{2} \\eta_{t} + 5 \\eta_{d} \\eta_{t} + 5 \\eta_{d} - 4\\right) + p_{dc}^{2} \\cdot \\left(6 \\eta_{d}^{2} \\eta_{t} - 4 \\eta_{d} \\eta_{t} - 4 \\eta_{d} + 2\\right) + p_{dc} \\left(- 2 \\eta_{d}^{2} \\eta_{t} + \\eta_{d} \\eta_{t} + \\eta_{d}\\right)$"
      ],
      "text/plain": [
       "p_{dc}**4*(2*eta_d**2*eta_t - 2*eta_d*eta_t - 2*eta_d + 2) + p_{dc}**3*(-6*eta_d**2*eta_t + 5*eta_d*eta_t + 5*eta_d - 4) + p_{dc}**2*(6*eta_d**2*eta_t - 4*eta_d*eta_t - 4*eta_d + 2) + p_{dc}*(-2*eta_d**2*eta_t + eta_d*eta_t + eta_d)"
      ]
     },
     "metadata": {},
     "output_type": "display_data"
    },
    {
     "data": {
      "text/latex": [
       "$\\displaystyle p_{dc} \\left(- 2 \\eta_{d}^{2} \\eta_{t} + \\eta_{d} \\eta_{t} + \\eta_{d}\\right)$"
      ],
      "text/plain": [
       "p_{dc}*(-2*eta_d**2*eta_t + eta_d*eta_t + eta_d)"
      ]
     },
     "metadata": {},
     "output_type": "display_data"
    },
    {
     "data": {
      "text/latex": [
       "$\\displaystyle - 2 \\eta_{d}^{2} \\eta_{t} + \\eta_{d} \\eta_{t} + \\eta_{d} + p_{dc}^{4} \\left(- 4 \\eta_{d}^{2} \\eta_{t} + 4 \\eta_{d} \\eta_{t} + 4 \\eta_{d} - 4\\right) + p_{dc}^{3} \\cdot \\left(14 \\eta_{d}^{2} \\eta_{t} - 13 \\eta_{d} \\eta_{t} - 13 \\eta_{d} + 12\\right) + p_{dc}^{2} \\left(- 18 \\eta_{d}^{2} \\eta_{t} + 15 \\eta_{d} \\eta_{t} + 15 \\eta_{d} - 12\\right) + p_{dc} \\left(10 \\eta_{d}^{2} \\eta_{t} - 7 \\eta_{d} \\eta_{t} - 7 \\eta_{d} + 4\\right)$"
      ],
      "text/plain": [
       "-2*eta_d**2*eta_t + eta_d*eta_t + eta_d + p_{dc}**4*(-4*eta_d**2*eta_t + 4*eta_d*eta_t + 4*eta_d - 4) + p_{dc}**3*(14*eta_d**2*eta_t - 13*eta_d*eta_t - 13*eta_d + 12) + p_{dc}**2*(-18*eta_d**2*eta_t + 15*eta_d*eta_t + 15*eta_d - 12) + p_{dc}*(10*eta_d**2*eta_t - 7*eta_d*eta_t - 7*eta_d + 4)"
      ]
     },
     "metadata": {},
     "output_type": "display_data"
    },
    {
     "data": {
      "text/latex": [
       "$\\displaystyle - 2 \\eta_{d}^{2} \\eta_{t} + \\eta_{d} \\eta_{t} + \\eta_{d} + p_{dc} \\left(10 \\eta_{d}^{2} \\eta_{t} - 7 \\eta_{d} \\eta_{t} - 7 \\eta_{d} + 4\\right)$"
      ],
      "text/plain": [
       "-2*eta_d**2*eta_t + eta_d*eta_t + eta_d + p_{dc}*(10*eta_d**2*eta_t - 7*eta_d*eta_t - 7*eta_d + 4)"
      ]
     },
     "metadata": {},
     "output_type": "display_data"
    }
   ],
   "source": [
    "p_dc, eta_d = symbols(\"p_{dc}, eta_d\", positive=True)\n",
    "# Probability of a on or off detection given u photons entered: p[u][\"on\"]\n",
    "p = [{\"off\": 1-p_dc, \"on\": p_dc},\n",
    "     {\"off\": (1-eta_d)*(1-p_dc), \"on\": eta_d + (1-eta_d)*p_dc},\n",
    "     {\"off\": (1-eta_d)**2*(1-p_dc), \"on\": 1-(1-eta_d)**2*(1-p_dc)}]\n",
    "eta_t = symbols(\"eta_t\", positive=True)\n",
    "P_3_1 = collect(expand(eta_t*(p[2][\"on\"] * p[0][\"on\"] * (p[0][\"off\"]**2) + p[2][\"off\"] * p[0][\"off\"] * (p[0][\"on\"]**2)) + \\\n",
    "        (1-eta_t)*(p[1][\"on\"] * p[0][\"on\"] * (p[0][\"off\"]**2) + p[1][\"off\"] * p[0][\"off\"] * (p[0][\"on\"]**2))),p_dc) \n",
    "\n",
    "P_5_1 = collect(expand(eta_t*(p[2][\"on\"] * p[0][\"off\"] + 3*p[2][\"off\"] * p[0][\"on\"]) * p[0][\"off\"]**2 + \\\n",
    "               (1-eta_t)*(p[1][\"on\"] * p[0][\"off\"] + 3*p[1][\"off\"] * p[0][\"on\"]) * p[0][\"off\"]**2),p_dc) \n",
    "\n",
    "P_3_3 = collect(expand(eta_t*(p[1][\"on\"]**2 * p[0][\"off\"]**2 + p[1][\"off\"]**2 * p[0][\"on\"]**2) + \\\n",
    "               (1-eta_t)*(p[1][\"on\"] * p[0][\"on\"] * p[0][\"off\"]**2 + p[1][\"off\"] * p[0][\"off\"] * p[0][\"on\"]**2)),p_dc)\n",
    "\n",
    "P_4_3 = collect(expand(eta_t*2*p[1][\"on\"] * p[1][\"off\"] * p[0][\"on\"] * p[0][\"off\"] + \\\n",
    "               (1-eta_t)* (p[1][\"on\"]* p[0][\"on\"] * p[0][\"off\"]**2 + p[1][\"off\"] * p[0][\"off\"]*p[0][\"on\"]**2)),p_dc)\n",
    "\n",
    "P_5_3 = collect(expand(eta_t*2*p[1][\"off\"] * p[0][\"off\"]* (p[1][\"on\"]*p[0][\"off\"] + p[1][\"off\"]*p[0][\"on\"]) + \\\n",
    "               (1-eta_t)*(p[1][\"on\"] * p[0][\"off\"]**3 + 3*p[1][\"off\"] * p[0][\"on\"] * p[0][\"off\"]**2)),p_dc)\n",
    "\n",
    "\n",
    "zero = symbols(\"0\")\n",
    "display(P_3_1)\n",
    "\n",
    "P_3_1_coeff = Poly(P_3_1 + zero, p_dc).coeffs()\n",
    "P_3_1 = sum(p_dc**n * P_3_1_coeff[-n-1] for n in range(2)).subs(zero,0)\n",
    "\n",
    "display(P_3_1.subs(zero,0))\n",
    "\n",
    "display(P_5_1)\n",
    "\n",
    "P_5_1_coeff = Poly(P_5_1 + zero, p_dc).coeffs()\n",
    "P_5_1 = sum(p_dc**n * P_5_1_coeff[-n-1] for n in range(2)).subs(zero,0)\n",
    "\n",
    "display(P_5_1.subs(zero,0))\n",
    "\n",
    "display(P_3_3)\n",
    "\n",
    "P_3_3_coeff = Poly(P_3_3 + zero, p_dc).coeffs()\n",
    "P_3_3 = sum(p_dc**n * P_3_3_coeff[-n-1] for n in range(2)).subs(zero,0)\n",
    "\n",
    "display(P_3_3.subs(zero,0))\n",
    "\n",
    "display(P_4_3)\n",
    "\n",
    "P_4_3_coeff = Poly(P_4_3 + zero, p_dc).coeffs()\n",
    "P_4_3 = sum(p_dc**n * P_4_3_coeff[-n-1] for n in range(2)).subs(zero,0)\n",
    "\n",
    "display(P_4_3.subs(zero,0))\n",
    "\n",
    "display(P_5_3)\n",
    "\n",
    "P_5_3_coeff = Poly(P_5_3 + zero, p_dc).coeffs()\n",
    "P_5_3 = sum(p_dc**n * P_5_3_coeff[-n-1] for n in range(2)).subs(zero,0)\n",
    "\n",
    "display(P_5_3)"
   ]
  },
  {
   "cell_type": "code",
   "execution_count": 71,
   "metadata": {},
   "outputs": [
    {
     "name": "stdout",
     "output_type": "stream",
     "text": [
      "P_{3,1} \\approx p_{dc} \\left(- \\eta_{d}^{2} \\eta_{t} + \\eta_{d} \\eta_{t} + \\eta_{d}\\right)\n",
      "P_{5,1} \\approx - \\eta_{d}^{2} \\eta_{t} + \\eta_{d} \\eta_{t} + \\eta_{d} + p_{dc} \\left(7 \\eta_{d}^{2} \\eta_{t} - 7 \\eta_{d} \\eta_{t} - 7 \\eta_{d} + 4\\right)\n",
      "P_{3,3} \\approx \\eta_{d}^{2} \\eta_{t} + p_{dc} \\left(- 4 \\eta_{d}^{2} \\eta_{t} + \\eta_{d} \\eta_{t} + \\eta_{d}\\right)\n",
      "P_{4,3} \\approx p_{dc} \\left(- 2 \\eta_{d}^{2} \\eta_{t} + \\eta_{d} \\eta_{t} + \\eta_{d}\\right)\n",
      "P_{5,3} \\approx - 2 \\eta_{d}^{2} \\eta_{t} + \\eta_{d} \\eta_{t} + \\eta_{d} + p_{dc} \\left(10 \\eta_{d}^{2} \\eta_{t} - 7 \\eta_{d} \\eta_{t} - 7 \\eta_{d} + 4\\right)\n"
     ]
    }
   ],
   "source": [
    "print(\"P_{3,1} \\\\approx\", latex(P_3_1) )\n",
    "print(\"P_{5,1} \\\\approx\", latex(P_5_1) )\n",
    "print(\"P_{3,3} \\\\approx\", latex(P_3_3) )\n",
    "print(\"P_{4,3} \\\\approx\", latex(P_4_3) )\n",
    "print(\"P_{5,3} \\\\approx\", latex(P_5_3) )\n"
   ]
  },
  {
   "cell_type": "code",
   "execution_count": 82,
   "metadata": {},
   "outputs": [
    {
     "data": {
      "text/latex": [
       "$\\displaystyle \\frac{\\eta_{d}^{2} \\eta_{t}}{2} + p_{dc} \\left(- 4 \\eta_{d}^{2} \\eta_{t} + 2 \\eta_{d} \\eta_{t} + 2 \\eta_{d}\\right)$"
      ],
      "text/plain": [
       "eta_d**2*eta_t/2 + p_{dc}*(-4*eta_d**2*eta_t + 2*eta_d*eta_t + 2*eta_d)"
      ]
     },
     "metadata": {},
     "output_type": "display_data"
    },
    {
     "data": {
      "text/latex": [
       "$\\displaystyle \\frac{- \\eta_{d} \\eta_{t} + p_{dc} \\left(4 \\eta_{d} \\eta_{t} - \\eta_{t} - 1\\right)}{- \\eta_{d} \\eta_{t} + p_{dc} \\left(8 \\eta_{d} \\eta_{t} - 4 \\eta_{t} - 4\\right)}$"
      ],
      "text/plain": [
       "(-eta_d*eta_t + p_{dc}*(4*eta_d*eta_t - eta_t - 1))/(-eta_d*eta_t + p_{dc}*(8*eta_d*eta_t - 4*eta_t - 4))"
      ]
     },
     "metadata": {},
     "output_type": "display_data"
    },
    {
     "name": "stdout",
     "output_type": "stream",
     "text": [
      "\\frac{\\eta_{d}^{2} \\eta_{t}}{2} + p_{dc} \\left(- 4 \\eta_{d}^{2} \\eta_{t} + 2 \\eta_{d} \\eta_{t} + 2 \\eta_{d}\\right)\n",
      "\\frac{- \\eta_{d} \\eta_{t} + p_{dc} \\left(4 \\eta_{d} \\eta_{t} - \\eta_{t} - 1\\right)}{- \\eta_{d} \\eta_{t} + p_{dc} \\left(8 \\eta_{d} \\eta_{t} - 4 \\eta_{t} - 4\\right)}\n"
     ]
    }
   ],
   "source": [
    "P_BSM = collect((4*P_3_1 + 2*P_3_3 + 2*P_4_3)/4, p_dc)\n",
    "display(P_BSM)\n",
    "\n",
    "e_3 = collect(simplify(P_3_3/(2*P_3_1 + P_3_3 + P_4_3)), p_dc)\n",
    "display(e_3)\n",
    "\n",
    "e_4 = e_3\n",
    "print(latex(P_BSM))\n",
    "print(latex(e_3))"
   ]
  }
 ],
 "metadata": {
  "kernelspec": {
   "display_name": "base",
   "language": "python",
   "name": "python3"
  },
  "language_info": {
   "codemirror_mode": {
    "name": "ipython",
    "version": 3
   },
   "file_extension": ".py",
   "mimetype": "text/x-python",
   "name": "python",
   "nbconvert_exporter": "python",
   "pygments_lexer": "ipython3",
   "version": "3.9.7"
  }
 },
 "nbformat": 4,
 "nbformat_minor": 2
}
