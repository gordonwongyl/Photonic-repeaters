{
 "cells": [
  {
   "cell_type": "code",
   "execution_count": 23,
   "metadata": {},
   "outputs": [
    {
     "data": {
      "text/plain": [
       "<module 'delay_feedback_line_cal' from '/Users/gordonwongyl/Documents/ORF/Detector_efficiency/delay_feedback_line_cal.py'>"
      ]
     },
     "execution_count": 23,
     "metadata": {},
     "output_type": "execute_result"
    }
   ],
   "source": [
    "import numpy as np\n",
    "import matplotlib.pyplot as plt\n",
    "from importlib import reload\n",
    "import tgs, rgs\n",
    "import delay_feedback_line_cal as line\n",
    "reload(tgs) \n",
    "reload(rgs) \n",
    "reload(line)"
   ]
  },
  {
   "cell_type": "code",
   "execution_count": 24,
   "metadata": {},
   "outputs": [],
   "source": [
    "detector = tgs.Detector(1, 0)\n",
    "epsilon_depol = 3e-4"
   ]
  },
  {
   "cell_type": "code",
   "execution_count": 25,
   "metadata": {},
   "outputs": [
    {
     "name": "stdout",
     "output_type": "stream",
     "text": [
      "M: 587.2352941176471\n",
      "R_eff:  -889.18219365259616904\n",
      "\n",
      "M: 32.00330033003301\n",
      "R_eff:  3.1300907922000082976e-17\n",
      "\n",
      "M: 554.5555555555555\n",
      "R_eff:  -616.6866843245647097\n",
      "\n",
      "M: 587.2352941176471\n",
      "R_eff:  -895.3442663896943417\n",
      "\n"
     ]
    }
   ],
   "source": [
    "#TGS_ancilla\n",
    "GAMMA = np.array([2e9, 100e9, 170e6, 100e9]) * 2 * np.pi\n",
    "T_SPIN_COHERENCE = [13e-3, 4e-6, 1., 1.]\n",
    "L_neighbour = [1.7e3, 30.3e3, 1.8e3, 1.7e3]\n",
    "BRANCH_PARAM = [np.array([4,16,5]), np.array([1,1,19]), np.array([4,18,5]), np.array([4,16,5])]\n",
    "L_delay = [398, 80.4, 627.9, 380.7]\n",
    "L = 1000e3\n",
    "L_ATT = 20e3\n",
    "\n",
    "for i in range(len(GAMMA)):\n",
    "    M = L/L_neighbour[i] - 1\n",
    "    miu = tgs.Miu(L, L_ATT, L_delay=L_delay[i], m=M, L_feedback=0)\n",
    "    tree = tgs.Tree_ancilla(BRANCH_PARAM[i], miu=miu, detector=detector)\n",
    "    time = tgs.Time(GAMMA[i], 500)\n",
    "    error = tgs.Error(tree, time, t_spin_coherence=T_SPIN_COHERENCE[i], epsilon_depolarization=epsilon_depol)\n",
    "\n",
    "    print(\"M:\", M)\n",
    "    # print(\"Miu: \", tree.miu_total(delay_apply=False))\n",
    "    # print(\"Tree P_succ\", tree.P_succ)\n",
    "    # print(\"Tree_ T graph:\", tree.T_tree(time))\n",
    "    # print(\"e_incorrect:\", error.e_incorrect)\n",
    "    print(\"R_eff: \", tgs.effective_key_rate(tree, time, error, M, 3))\n",
    "    print()\n"
   ]
  },
  {
   "cell_type": "code",
   "execution_count": 26,
   "metadata": {},
   "outputs": [
    {
     "name": "stdout",
     "output_type": "stream",
     "text": [
      "R_eff:  -1660.5390460668727846\n",
      "\n",
      "R_eff:  -18315.991588522208497\n",
      "\n",
      "R_eff:  5.0824637669855832007e-18\n",
      "\n",
      "R_eff:  -56362.43039614933616\n",
      "\n"
     ]
    }
   ],
   "source": [
    "#TGS_feedback\n",
    "GAMMA = np.array([2e9, 100e9, 170e6, 100e9]) * 2 * np.pi\n",
    "T_SPIN_COHERENCE = [13e-3, 4e-6, 1., 1.]\n",
    "L_neighbour = [1.1e3, 2.2e3, 27e3, 1.9e3]\n",
    "BRANCH_PARAM = [np.array([4,16,5]), np.array([4,22,6]), np.array([1,1,18]), np.array([4,15,5])]\n",
    "L_feedback = [540.3, 16.5, 93.6, 11.3]\n",
    "L_delay = [1.2e3, 37.1, 378., 25.6]\n",
    "\n",
    "L = 1000e3\n",
    "L_ATT = 20e3\n",
    "\n",
    "for i in range(4):\n",
    "    M = L/L_neighbour[i] - 1\n",
    "    miu = tgs.Miu(L, L_ATT, L_delay=L_delay[i], m=M, L_feedback=L_feedback[i])\n",
    "    tree = tgs.Tree_feedback(BRANCH_PARAM[i], miu=miu, detector=detector)\n",
    "    time = tgs.Time(GAMMA[i], 500)\n",
    "    error = tgs.Error(tree, time, t_spin_coherence=T_SPIN_COHERENCE[i], epsilon_depolarization=epsilon_depol)\n",
    "\n",
    "    # print(\"M:\", M)\n",
    "    # print(\"Miu: \", tree.miu_total(delay_apply=False))\n",
    "    # print(\"Tree P_succ\", tree.P_succ)\n",
    "    # print(\"Tree_ T graph:\", tree.T_tree(time))\n",
    "    # print(\"e_incorrect: \", error.e_incorrect)\n",
    "    print(\"R_eff: \", tgs.effective_key_rate(tree, time, error, M, 2))\n",
    "    print()\n",
    "\n"
   ]
  },
  {
   "cell_type": "code",
   "execution_count": 27,
   "metadata": {},
   "outputs": [
    {
     "name": "stdout",
     "output_type": "stream",
     "text": [
      "M: 312\n",
      "R_eff:  -183.30623404268237761\n",
      "\n",
      "M: 1\n",
      "R_eff:  -8.511982677580106964e-81\n",
      "\n",
      "M: 322\n",
      "R_eff:  -162.06448317604813636\n",
      "\n",
      "M: 312\n",
      "R_eff:  -184.95583951745233425\n",
      "\n"
     ]
    }
   ],
   "source": [
    "#RGS_ancilla\n",
    "GAMMA = np.array([2e9, 100e9, 170e6, 100e9]) * 2 * np.pi\n",
    "T_SPIN_COHERENCE = [13e-3, 4e-6, 1., 1.]\n",
    "L_neighbour = [3.2e3, 500e3, 3.1e3, 3.2e3]\n",
    "N = [32, 4, 32, 32]\n",
    "BRANCH_PARAM = [np.array([24,7]), np.array([1,1]), np.array([24,7]), np.array([24,7])]\n",
    "L_delay = [483.5, 20., 516.6, 480.5]\n",
    "\n",
    "L = 1000e3\n",
    "L_ATT = 20e3\n",
    "\n",
    "for i in range(4):\n",
    "    M = round(L/L_neighbour[i] - 1)\n",
    "    miu = tgs.Miu(L/2, L_ATT, L_delay=L_delay[i], m=M, L_feedback=0)\n",
    "    rgs_ancilla = rgs.RGS_ancilla(BRANCH_PARAM[i], N[i], miu=miu, detector=detector)\n",
    "    time = tgs.Time(GAMMA[i], 500)\n",
    "    error = rgs.RGS_Error(rgs_ancilla, time, T_SPIN_COHERENCE[i], epsilon_depolarization=epsilon_depol)\n",
    "    # R_eff = rgs.effective_key_rate(rgs_ancilla, time, error, M, 3, L, L_ATT)\n",
    "\n",
    "    print(\"M:\", M)\n",
    "    # print(\"Miu: \", rgs_ancilla.miu_total)\n",
    "    # print(\"RGS P_succ\", rgs_ancilla.P_succ)\n",
    "    # print(\"RGS T graph:\", rgs_ancilla.T_graph(time))\n",
    "    print(\"R_eff: \", rgs.effective_key_rate(rgs_ancilla, time, error, M, 3, L, L_ATT))\n",
    "    print()\n",
    "    \n",
    "    "
   ]
  },
  {
   "cell_type": "code",
   "execution_count": 28,
   "metadata": {},
   "outputs": [
    {
     "name": "stdout",
     "output_type": "stream",
     "text": [
      "M: 454\n",
      "R_eff:  -2.3274312803842909773e-09\n",
      "\n",
      "M: 255\n",
      "R_eff:  -26510.80175253967155\n",
      "\n",
      "M: 107\n",
      "R_eff:  -3.3118148606828979515e-79\n",
      "\n",
      "M: 262\n",
      "R_eff:  -18045.155361882888517\n",
      "\n"
     ]
    }
   ],
   "source": [
    "#RGS_feedback\n",
    "GAMMA = np.array([2e9, 100e9, 170e6, 100e9]) * 2 * np.pi\n",
    "T_SPIN_COHERENCE = [13e-3, 4e-6, 1., 1.]\n",
    "L_neighbour = [2.2e3, 3.9e3, 9.3e3, 3.8e3]\n",
    "N = [14, 32, 4, 32]\n",
    "BRANCH_PARAM = [np.array([13,5]), np.array([25, 7]), np.array([4, 2]), np.array([24, 7])]\n",
    "L = 1000e3\n",
    "L_ATT = 20e3\n",
    "\n",
    "for i in range(4):\n",
    "    M = round(L/L_neighbour[i] - 1)\n",
    "    time = tgs.Time(GAMMA[i], 500)\n",
    "    \n",
    "    miu = tgs.Miu(L/2, L_ATT, L_delay=line.delay_line_rgs_feedback(BRANCH_PARAM[i], N[i],time), \n",
    "                  m=M, L_feedback=line.delay_line_rgs_feedback(BRANCH_PARAM[i], N[i],time))\n",
    "    \n",
    "    rgs_feedback = rgs.RGS_feedback(BRANCH_PARAM[i], N[i], miu=miu, detector=detector)\n",
    "    error = rgs.RGS_Error(rgs_feedback, time, T_SPIN_COHERENCE[i], epsilon_depolarization=epsilon_depol)\n",
    "    # R_eff = rgs.effective_key_rate(rgs_ancilla, time, error, M, 3, L, L_ATT)\n",
    "\n",
    "    print(\"M:\", M)\n",
    "    # print(\"Miu: \", rgs_ancilla.miu_total)\n",
    "    # print(\"RGS P_succ\", rgs_ancilla.P_succ)\n",
    "    # print(\"RGS T graph:\", rgs_ancilla.T_graph(time))\n",
    "    print(\"R_eff: \", rgs.effective_key_rate(rgs_feedback, time, error, M, 1, L, L_ATT))\n",
    "    print()\n",
    "    "
   ]
  },
  {
   "cell_type": "code",
   "execution_count": 29,
   "metadata": {},
   "outputs": [
    {
     "name": "stdout",
     "output_type": "stream",
     "text": [
      "1 - PZ:  1.8000820832808628325e-06\n",
      "1 - PX:  5.8992612506050606195e-05\n",
      "ez:  1.625769212934008802e-07\n",
      "ex:  2.4573257083845456e-06\n",
      "1 - P_L 0.4310445115695992467\n",
      "\n",
      "1 - PZ:  2.6990336650989377176e-05\n",
      "1 - PX:  0.00035351610747623392122\n",
      "ez:  1.5051211706287577579e-06\n",
      "ex:  8.793086483465904e-06\n",
      "1 - P_L 0.3579772780033453162\n",
      "\n"
     ]
    },
    {
     "name": "stderr",
     "output_type": "stream",
     "text": [
      "/Users/gordonwongyl/Documents/ORF/Detector_efficiency/rgs.py:94: RuntimeWarning: divide by zero encountered in double_scalars\n",
      "  epsilon_decoh = 3/4 * (1 - np.exp(-rgs.T_graph(time)/t_spin_coherence/rgs.num_photons))\n"
     ]
    },
    {
     "name": "stdout",
     "output_type": "stream",
     "text": [
      "1 - PZ:  4.684112023589648288e-06\n",
      "1 - PX:  9.969801066210407306e-05\n",
      "ez:  5.054521395865533277e-07\n",
      "ex:  1.4067753739886213e-05\n",
      "1 - P_L 0.42685974030863753565\n",
      "\n",
      "1 - PZ:  3.883355877520866528e-05\n",
      "1 - PX:  0.000586464184981994323\n",
      "ez:  2.8611076950657074451e-06\n",
      "ex:  4.779966824115593e-05\n",
      "1 - P_L 0.36698594911268605975\n",
      "\n"
     ]
    }
   ],
   "source": [
    "# Check with data in A3\n",
    "miu_set = [np.float128(0.1987), 0.27]\n",
    "e_m_set = [2.8e-5, 5.6e-5]\n",
    "BRANCH_PARAM = [[np.array([16,14,1], dtype=int), np.array([11, 11, 1])], \n",
    "                [np.array([17,28,2]), np.array([12,23,2])]]\n",
    "\n",
    "for i in range(2):\n",
    "    for j in range(2):\n",
    "        miu = tgs.Miu(1000, 100, 0, 0, 0, miu_set=miu_set[i])\n",
    "        time = tgs.Time(2e9, 500) # shouldn't matter\n",
    "        rgs_test = rgs.RGS_ancilla(BRANCH_PARAM[i][j], 0, miu=miu)\n",
    "\n",
    "        error = rgs.RGS_Error(rgs_test, time, 0, epsilon_sp_measure_set=e_m_set[i])\n",
    "        print(\"1 - PZ: \", np.float128(1.0) - rgs_test.prob_Z_measurement)\n",
    "        print(\"1 - PX: \", np.float128(1.0) - rgs_test.prob_X_measurement)\n",
    "\n",
    "        print(\"ez: \", error.epsilon_Z)\n",
    "        print(\"ex: \", error.epsilon_X)\n",
    "\n",
    "        print(\"1 - P_L\", 1. - rgs_test.logical_qubit.P_succ)\n",
    " \n",
    "        # print(rgs_test.logical_qubit.R)\n",
    "        print()"
   ]
  }
 ],
 "metadata": {
  "kernelspec": {
   "display_name": "base",
   "language": "python",
   "name": "python3"
  },
  "language_info": {
   "codemirror_mode": {
    "name": "ipython",
    "version": 3
   },
   "file_extension": ".py",
   "mimetype": "text/x-python",
   "name": "python",
   "nbconvert_exporter": "python",
   "pygments_lexer": "ipython3",
   "version": "3.9.7"
  }
 },
 "nbformat": 4,
 "nbformat_minor": 2
}
