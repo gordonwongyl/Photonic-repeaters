{
 "cells": [
  {
   "cell_type": "code",
   "execution_count": 1,
   "metadata": {},
   "outputs": [
    {
     "data": {
      "text/plain": [
       "<module 'rgs' from '/Users/gordonwongyl/Documents/ORF/Reproduce_result/rgs.py'>"
      ]
     },
     "execution_count": 1,
     "metadata": {},
     "output_type": "execute_result"
    }
   ],
   "source": [
    "import numpy as np\n",
    "import matplotlib.pyplot as plt\n",
    "from importlib import reload\n",
    "import tgs, rgs\n",
    "reload(tgs) \n",
    "reload(rgs) \n"
   ]
  },
  {
   "cell_type": "code",
   "execution_count": 2,
   "metadata": {},
   "outputs": [
    {
     "name": "stdout",
     "output_type": "stream",
     "text": [
      "[0.99973596 0.99991018 0.99996642]\n",
      "M: 587.2352941176471\n",
      "R_eff:  2640.0859973303215202\n",
      "\n",
      "[2.06888928e-01 2.48689958e-14 9.88325080e-01]\n",
      "M: 32.00330033003301\n",
      "R_eff:  3.8797236227187776568e-17\n",
      "\n",
      "[0.99969781 0.99995754 0.99996028]\n",
      "M: 554.5555555555555\n",
      "R_eff:  854.76710112484905213\n",
      "\n",
      "[0.99973596 0.99991018 0.99996642]\n",
      "M: 587.2352941176471\n",
      "R_eff:  3344.0385096199860184\n",
      "\n"
     ]
    }
   ],
   "source": [
    "GAMMA = np.array([2e9, 100e9, 170e6, 100e9]) * 2 * np.pi\n",
    "T_SPIN_COHERENCE = [13e-3, 4e-6, 1., 1.]\n",
    "L_neighbour = [1.7e3, 30.3e3, 1.8e3, 1.7e3]\n",
    "BRANCH_PARAM = [np.array([4,16,5]), np.array([1,1,19]), np.array([4,18,5]), np.array([4,16,5])]\n",
    "L_delay = [398, 80.4, 627.9, 380.7]\n",
    "\n",
    "L = 1000e3\n",
    "L_ATT = 20e3\n",
    "\n",
    "for i in range(len(GAMMA)):\n",
    "    M = L/L_neighbour[i] - 1\n",
    "    miu = tgs.Miu(L, L_ATT, L_delay=L_delay[i], m=M)\n",
    "    tree = tgs.Tree_ancilla(BRANCH_PARAM[i], miu=miu)\n",
    "    time = tgs.Time(GAMMA[i], 500)\n",
    "    error = tgs.Error(tree, time, t_spin_coherence=T_SPIN_COHERENCE[i])\n",
    "\n",
    "    print(tree.R)\n",
    "    print(\"M:\", M)\n",
    "    # print(\"Miu: \", tree.miu_total(delay_apply=False))\n",
    "    # print(\"Tree P_succ\", tree.P_succ)\n",
    "    # print(\"Tree_ T graph:\", tree.T_tree(time))\n",
    "    # print(\"e_incorrect:\", error.e_incorrect)\n",
    "    print(\"R_eff: \", tgs.effective_key_rate(tree, time, error, M, 2))\n",
    "    print()\n"
   ]
  },
  {
   "cell_type": "code",
   "execution_count": 5,
   "metadata": {},
   "outputs": [
    {
     "name": "stdout",
     "output_type": "stream",
     "text": [
      "R_eff:  5348.3814366165690304\n",
      "\n",
      "R_eff:  270432.33447677267515\n",
      "\n",
      "R_eff:  1.36974726696793735885e-17\n",
      "\n",
      "R_eff:  386891.79985093300604\n",
      "\n"
     ]
    }
   ],
   "source": [
    "GAMMA = np.array([2e9, 100e9, 170e6, 100e9]) * 2 * np.pi\n",
    "T_SPIN_COHERENCE = [13e-3, 4e-6, 1., 1.]\n",
    "L_neighbour = [1.1e3, 2.2e3, 27e3, 1.9e3]\n",
    "BRANCH_PARAM = [np.array([4,16,5]), np.array([4,22,6]), np.array([1,1,18]), np.array([4,15,5])]\n",
    "L_feedback = [540.3, 16.5, 93.6, 11.3]\n",
    "L_delay = [1.2e3, 37.1, 378., 25.6]\n",
    "\n",
    "L = 1000e3\n",
    "L_ATT = 20e3\n",
    "\n",
    "for i in range(4):\n",
    "    M = L/L_neighbour[i] - 1\n",
    "    miu = tgs.Miu(L, L_ATT, L_delay=L_delay[i], m=M, L_feedback=L_feedback[i])\n",
    "    tree = tgs.Tree_feedback(BRANCH_PARAM[i], miu=miu)\n",
    "    time = tgs.Time(GAMMA[i], 500)\n",
    "    error = tgs.Error(tree, time, t_spin_coherence=T_SPIN_COHERENCE[i])\n",
    "\n",
    "    # print(\"M:\", M)\n",
    "    # print(\"Miu: \", tree.miu_total(delay_apply=False))\n",
    "    # print(\"Tree P_succ\", tree.P_succ)\n",
    "    # print(\"Tree_ T graph:\", tree.T_tree(time))\n",
    "    # print(\"e_incorrect: \", error.e_incorrect)\n",
    "    print(\"R_eff: \", tgs.effective_key_rate(tree, time, error, M, 1))\n",
    "    print()\n",
    "\n"
   ]
  },
  {
   "cell_type": "code",
   "execution_count": 4,
   "metadata": {},
   "outputs": [
    {
     "name": "stdout",
     "output_type": "stream",
     "text": [
      "M: 312\n",
      "R_eff:  332.30858820905231252\n",
      "\n",
      "M: 1\n",
      "R_eff:  -7.4427089430450249104e-81\n",
      "\n",
      "M: 322\n",
      "R_eff:  282.16252584492061842\n",
      "\n",
      "M: 312\n",
      "R_eff:  339.2968840142396355\n",
      "\n"
     ]
    }
   ],
   "source": [
    "GAMMA = np.array([2e9, 100e9, 170e6, 100e9]) * 2 * np.pi\n",
    "T_SPIN_COHERENCE = [13e-3, 4e-6, 1., 1.]\n",
    "L_neighbour = [3.2e3, 500e3, 3.1e3, 3.2e3]\n",
    "N = [32, 4, 32, 32]\n",
    "BRANCH_PARAM = [np.array([24,7]), np.array([1,1]), np.array([24,7]), np.array([24,7])]\n",
    "L_delay = [483.5, 20., 516.6, 480.5]\n",
    "\n",
    "L = 1000e3\n",
    "L_ATT = 20e3\n",
    "\n",
    "for i in range(4):\n",
    "    M = round(L/L_neighbour[i] - 1)\n",
    "    miu = tgs.Miu(L/2, L_ATT, L_delay=L_delay[i], m=M)\n",
    "    rgs_ancilla = rgs.RGS_ancilla(BRANCH_PARAM[i], N[i], miu=miu)\n",
    "    time = tgs.Time(GAMMA[i], 500)\n",
    "    error = rgs.RGS_Error(rgs_ancilla, time, T_SPIN_COHERENCE[i])\n",
    "    # R_eff = rgs.effective_key_rate(rgs_ancilla, time, error, M, 3, L, L_ATT)\n",
    "\n",
    "    print(\"M:\", M)\n",
    "    # print(\"Miu: \", rgs_ancilla.miu_total)\n",
    "    # print(\"RGS P_succ\", rgs_ancilla.P_succ)\n",
    "    # print(\"RGS T graph:\", rgs_ancilla.T_graph(time))\n",
    "    print(\"R_eff: \", rgs.effective_key_rate(rgs_ancilla, time, error, M, 3, L, L_ATT))\n",
    "    print()\n",
    "    \n",
    "    "
   ]
  },
  {
   "cell_type": "code",
   "execution_count": 7,
   "metadata": {},
   "outputs": [
    {
     "name": "stdout",
     "output_type": "stream",
     "text": [
      "1 - PZ:  1.8000820832808628325e-06\n",
      "1 - PX:  5.8992612506050606195e-05\n",
      "ez:  1.6257692129340754642e-07\n",
      "ex:  2.4573257083845456e-06\n",
      "1 - P_L 0.4310445115695992467\n",
      "\n",
      "1 - PZ:  2.6990336650989377176e-05\n",
      "1 - PX:  0.00035351610747623392122\n",
      "ez:  1.5051211706287513824e-06\n",
      "ex:  8.793086483465904e-06\n",
      "1 - P_L 0.3579772780033453162\n",
      "\n",
      "1 - PZ:  4.6841120217022691463e-06\n",
      "1 - PX:  9.969801066210407306e-05\n",
      "ez:  5.054521395865178841e-07\n",
      "ex:  1.4067753739886092e-05\n",
      "1 - P_L 0.42685974030863645394\n",
      "\n",
      "1 - PZ:  3.883355877520866528e-05\n",
      "1 - PX:  0.000586464184981994323\n",
      "ez:  2.861107695065726551e-06\n",
      "ex:  4.7799668241155486e-05\n",
      "1 - P_L 0.36698594911268605975\n",
      "\n"
     ]
    }
   ],
   "source": [
    "# Check with data in A3\n",
    "miu_set = [np.float128(0.1987), 0.27]\n",
    "e_m_set = [2.8e-5, 5.6e-5]\n",
    "BRANCH_PARAM = [[np.array([16,14,1], dtype=int), np.array([11, 11, 1])], \n",
    "                [np.array([17,28,2]), np.array([12,23,2])]]\n",
    "\n",
    "for i in range(2):\n",
    "    for j in range(2):\n",
    "        miu = tgs.Miu(1000, 100, 0, 0, 0, miu_set=miu_set[i])\n",
    "        time = tgs.Time(2e9, 500) # shouldn't matter\n",
    "        rgs_test = rgs.RGS_ancilla(BRANCH_PARAM[i][j], 0, miu=miu)\n",
    "\n",
    "        error = rgs.RGS_Error(rgs_test, time, 0, epsilon_sp_measure_set=e_m_set[i])\n",
    "        print(\"1 - PZ: \", np.float128(1.0) - rgs_test.prob_Z_measurement)\n",
    "        print(\"1 - PX: \", np.float128(1.0) - rgs_test.prob_X_measurement)\n",
    "\n",
    "        print(\"ez: \", error.epsilon_Z)\n",
    "        print(\"ex: \", error.epsilon_X)\n",
    "\n",
    "        print(\"1 - P_L\", 1. - rgs_test.logical_qubit.P_succ)\n",
    " \n",
    "        # print(rgs_test.logical_qubit.R)\n",
    "        print()"
   ]
  }
 ],
 "metadata": {
  "kernelspec": {
   "display_name": "base",
   "language": "python",
   "name": "python3"
  },
  "language_info": {
   "codemirror_mode": {
    "name": "ipython",
    "version": 3
   },
   "file_extension": ".py",
   "mimetype": "text/x-python",
   "name": "python",
   "nbconvert_exporter": "python",
   "pygments_lexer": "ipython3",
   "version": "3.9.7"
  }
 },
 "nbformat": 4,
 "nbformat_minor": 2
}
