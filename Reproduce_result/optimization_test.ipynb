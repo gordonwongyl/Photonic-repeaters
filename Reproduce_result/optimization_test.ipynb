{
 "cells": [
  {
   "cell_type": "code",
   "execution_count": 5,
   "metadata": {},
   "outputs": [
    {
     "data": {
      "text/plain": [
       "<module 'rgs' from '/Users/gordonwongyl/Documents/ORF/Reproduce_result/rgs.py'>"
      ]
     },
     "execution_count": 5,
     "metadata": {},
     "output_type": "execute_result"
    }
   ],
   "source": [
    "import numpy as np\n",
    "import matplotlib.pyplot as plt\n",
    "from scipy.optimize import minimize_scalar, brute, dual_annealing\n",
    "import pygad\n",
    "from importlib import reload\n",
    "from IPython.display import clear_output\n",
    "\n",
    "import tgs \n",
    "import rgs \n",
    "\n",
    "reload(tgs)\n",
    "reload(rgs)"
   ]
  },
  {
   "cell_type": "code",
   "execution_count": 6,
   "metadata": {},
   "outputs": [],
   "source": [
    "L_ATT = 20e3\n",
    "def negative_key_rate_given_m(m, *params):\n",
    "    L, time, L_delay, T_SPIN_COH, b0, b1, b2 = params\n",
    "    miu = tgs.Miu(L, L_ATT, L_delay=L_delay, m=m)\n",
    "    tree = tgs.Tree_ancilla(np.array([b0, b1, b2]), miu=miu)\n",
    "    error = tgs.Error(tree, time, t_spin_coherence=T_SPIN_COH)\n",
    "    result = -tgs.effective_key_rate(tree, time, error, m, 2)\n",
    "    if result > 0.:\n",
    "        return 0.\n",
    "    return result\n",
    "    \n",
    "def tgs_negative_keyrate_given_branch(BRANCH_PARAM, *params):\n",
    "    params = params + tuple(BRANCH_PARAM)\n",
    "    # print(params)\n",
    "    res_high = minimize_scalar(negative_key_rate_given_m, bounds=(100., 1000.), args=params, method=\"Bounded\")\n",
    "    res_i = res_high\n",
    "    if res_high.fun > -1.:\n",
    "        res_low = minimize_scalar(negative_key_rate_given_m, bounds=(1., 100.), args=params, method=\"Bounded\")\n",
    "        if res_low.fun < res_high.fun:\n",
    "            res_i = res_low\n",
    "    return res_i.fun\n",
    "    ...\n",
    "\n"
   ]
  },
  {
   "cell_type": "code",
   "execution_count": 7,
   "metadata": {},
   "outputs": [
    {
     "name": "stdout",
     "output_type": "stream",
     "text": [
      "-2798.648526232008512\n",
      "-4.089531369539565422e-17\n"
     ]
    },
    {
     "name": "stderr",
     "output_type": "stream",
     "text": [
      "/Users/gordonwongyl/Documents/ORF/Reproduce_result/tgs.py:319: RuntimeWarning: invalid value encountered in log2\n",
      "  return  - x*np.log2(x) - (1-x)*np.log2(1-x)\n"
     ]
    },
    {
     "name": "stdout",
     "output_type": "stream",
     "text": [
      "-922.74324175979635293\n",
      "-3544.8641127222266765\n"
     ]
    }
   ],
   "source": [
    "GAMMA = np.array([2e9, 100e9, 170e6, 100e9]) * 2 * np.pi\n",
    "T_SPIN_COHERENCE = [13e-3, 4e-6, 1., 1.]\n",
    "BRANCH_PARAM = [np.array([4,16,5]), np.array([1,1,19]), np.array([4,18,5]), np.array([4,16,5])]\n",
    "\n",
    "for i in range(4):\n",
    "    res = []\n",
    "    time = tgs.Time(GAMMA[i])\n",
    "    params = 1000e3, time, 0., T_SPIN_COHERENCE[i], BRANCH_PARAM[i][0], BRANCH_PARAM[i][1], BRANCH_PARAM[i][2]\n",
    "    # print(params)\n",
    "    res_high = minimize_scalar(negative_key_rate_given_m, bounds=(100., 1000.), args=params, method=\"Bounded\")\n",
    "    res_i = res_high\n",
    "    if res_high.fun > -1.:\n",
    "        res_low = minimize_scalar(negative_key_rate_given_m, bounds=(1., 100.), args=params, method=\"Bounded\")\n",
    "        if res_low.fun < res_high.fun:\n",
    "            res_i = res_low\n",
    "\n",
    "    # res_i = dual_annealing(negative_key_rate_given_m, bounds=[(10., 700.)], args=params, x0=[500.])\n",
    "    res.append(res_i)\n",
    "    print(res_i.fun)\n",
    "\n"
   ]
  },
  {
   "cell_type": "code",
   "execution_count": 8,
   "metadata": {},
   "outputs": [
    {
     "ename": "KeyboardInterrupt",
     "evalue": "",
     "output_type": "error",
     "traceback": [
      "\u001b[0;31m---------------------------------------------------------------------------\u001b[0m",
      "\u001b[0;31mKeyboardInterrupt\u001b[0m                         Traceback (most recent call last)",
      "Input \u001b[0;32mIn [8]\u001b[0m, in \u001b[0;36m<cell line: 2>\u001b[0;34m()\u001b[0m\n\u001b[1;32m      4\u001b[0m time \u001b[38;5;241m=\u001b[39m tgs\u001b[38;5;241m.\u001b[39mTime(GAMMA[i])\n\u001b[1;32m      5\u001b[0m params \u001b[38;5;241m=\u001b[39m \u001b[38;5;241m1000e3\u001b[39m, time, \u001b[38;5;241m0.\u001b[39m, T_SPIN_COHERENCE[i]\n\u001b[0;32m----> 6\u001b[0m resbrute \u001b[38;5;241m=\u001b[39m \u001b[43mbrute\u001b[49m\u001b[43m(\u001b[49m\u001b[43mtgs_negative_keyrate_given_branch\u001b[49m\u001b[43m,\u001b[49m\u001b[43m \u001b[49m\u001b[43mBRANCH_ranges\u001b[49m\u001b[43m,\u001b[49m\u001b[43m \u001b[49m\u001b[43margs\u001b[49m\u001b[38;5;241;43m=\u001b[39;49m\u001b[43mparams\u001b[49m\u001b[43m,\u001b[49m\u001b[43m \u001b[49m\u001b[43mfull_output\u001b[49m\u001b[38;5;241;43m=\u001b[39;49m\u001b[38;5;28;43;01mTrue\u001b[39;49;00m\u001b[43m,\u001b[49m\u001b[43m \u001b[49m\u001b[43mfinish\u001b[49m\u001b[38;5;241;43m=\u001b[39;49m\u001b[38;5;28;43;01mNone\u001b[39;49;00m\u001b[43m)\u001b[49m\n\u001b[1;32m      7\u001b[0m res\u001b[38;5;241m.\u001b[39mappend(resbrute)\n\u001b[1;32m      8\u001b[0m \u001b[38;5;28mprint\u001b[39m(resbrute[\u001b[38;5;241m0\u001b[39m])\n",
      "File \u001b[0;32m~/opt/anaconda3/lib/python3.9/site-packages/scipy/optimize/optimize.py:3328\u001b[0m, in \u001b[0;36mbrute\u001b[0;34m(func, ranges, args, Ns, full_output, finish, disp, workers)\u001b[0m\n\u001b[1;32m   3326\u001b[0m \u001b[38;5;66;03m# iterate over input arrays, possibly in parallel\u001b[39;00m\n\u001b[1;32m   3327\u001b[0m \u001b[38;5;28;01mwith\u001b[39;00m MapWrapper(pool\u001b[38;5;241m=\u001b[39mworkers) \u001b[38;5;28;01mas\u001b[39;00m mapper:\n\u001b[0;32m-> 3328\u001b[0m     Jout \u001b[38;5;241m=\u001b[39m np\u001b[38;5;241m.\u001b[39marray(\u001b[38;5;28;43mlist\u001b[39;49m\u001b[43m(\u001b[49m\u001b[43mmapper\u001b[49m\u001b[43m(\u001b[49m\u001b[43mwrapped_func\u001b[49m\u001b[43m,\u001b[49m\u001b[43m \u001b[49m\u001b[43mgrid\u001b[49m\u001b[43m)\u001b[49m\u001b[43m)\u001b[49m)\n\u001b[1;32m   3329\u001b[0m     \u001b[38;5;28;01mif\u001b[39;00m (N \u001b[38;5;241m==\u001b[39m \u001b[38;5;241m1\u001b[39m):\n\u001b[1;32m   3330\u001b[0m         grid \u001b[38;5;241m=\u001b[39m (grid,)\n",
      "File \u001b[0;32m~/opt/anaconda3/lib/python3.9/site-packages/scipy/optimize/optimize.py:3400\u001b[0m, in \u001b[0;36m_Brute_Wrapper.__call__\u001b[0;34m(self, x)\u001b[0m\n\u001b[1;32m   3398\u001b[0m \u001b[38;5;28;01mdef\u001b[39;00m \u001b[38;5;21m__call__\u001b[39m(\u001b[38;5;28mself\u001b[39m, x):\n\u001b[1;32m   3399\u001b[0m     \u001b[38;5;66;03m# flatten needed for one dimensional case.\u001b[39;00m\n\u001b[0;32m-> 3400\u001b[0m     \u001b[38;5;28;01mreturn\u001b[39;00m \u001b[38;5;28;43mself\u001b[39;49m\u001b[38;5;241;43m.\u001b[39;49m\u001b[43mf\u001b[49m\u001b[43m(\u001b[49m\u001b[43mnp\u001b[49m\u001b[38;5;241;43m.\u001b[39;49m\u001b[43masarray\u001b[49m\u001b[43m(\u001b[49m\u001b[43mx\u001b[49m\u001b[43m)\u001b[49m\u001b[38;5;241;43m.\u001b[39;49m\u001b[43mflatten\u001b[49m\u001b[43m(\u001b[49m\u001b[43m)\u001b[49m\u001b[43m,\u001b[49m\u001b[43m \u001b[49m\u001b[38;5;241;43m*\u001b[39;49m\u001b[38;5;28;43mself\u001b[39;49m\u001b[38;5;241;43m.\u001b[39;49m\u001b[43margs\u001b[49m\u001b[43m)\u001b[49m\n",
      "Input \u001b[0;32mIn [6]\u001b[0m, in \u001b[0;36mtgs_negative_keyrate_given_branch\u001b[0;34m(BRANCH_PARAM, *params)\u001b[0m\n\u001b[1;32m     13\u001b[0m params \u001b[38;5;241m=\u001b[39m params \u001b[38;5;241m+\u001b[39m \u001b[38;5;28mtuple\u001b[39m(BRANCH_PARAM)\n\u001b[1;32m     14\u001b[0m \u001b[38;5;66;03m# print(params)\u001b[39;00m\n\u001b[0;32m---> 15\u001b[0m res_high \u001b[38;5;241m=\u001b[39m \u001b[43mminimize_scalar\u001b[49m\u001b[43m(\u001b[49m\u001b[43mnegative_key_rate_given_m\u001b[49m\u001b[43m,\u001b[49m\u001b[43m \u001b[49m\u001b[43mbounds\u001b[49m\u001b[38;5;241;43m=\u001b[39;49m\u001b[43m(\u001b[49m\u001b[38;5;241;43m100.\u001b[39;49m\u001b[43m,\u001b[49m\u001b[43m \u001b[49m\u001b[38;5;241;43m1000.\u001b[39;49m\u001b[43m)\u001b[49m\u001b[43m,\u001b[49m\u001b[43m \u001b[49m\u001b[43margs\u001b[49m\u001b[38;5;241;43m=\u001b[39;49m\u001b[43mparams\u001b[49m\u001b[43m,\u001b[49m\u001b[43m \u001b[49m\u001b[43mmethod\u001b[49m\u001b[38;5;241;43m=\u001b[39;49m\u001b[38;5;124;43m\"\u001b[39;49m\u001b[38;5;124;43mBounded\u001b[39;49m\u001b[38;5;124;43m\"\u001b[39;49m\u001b[43m)\u001b[49m\n\u001b[1;32m     16\u001b[0m res_i \u001b[38;5;241m=\u001b[39m res_high\n\u001b[1;32m     17\u001b[0m \u001b[38;5;28;01mif\u001b[39;00m res_high\u001b[38;5;241m.\u001b[39mfun \u001b[38;5;241m>\u001b[39m \u001b[38;5;241m-\u001b[39m\u001b[38;5;241m1.\u001b[39m:\n",
      "File \u001b[0;32m~/opt/anaconda3/lib/python3.9/site-packages/scipy/optimize/_minimize.py:804\u001b[0m, in \u001b[0;36mminimize_scalar\u001b[0;34m(fun, bracket, bounds, args, method, tol, options)\u001b[0m\n\u001b[1;32m    802\u001b[0m     \u001b[38;5;28;01mif\u001b[39;00m \u001b[38;5;28misinstance\u001b[39m(disp, \u001b[38;5;28mbool\u001b[39m):\n\u001b[1;32m    803\u001b[0m         options[\u001b[38;5;124m'\u001b[39m\u001b[38;5;124mdisp\u001b[39m\u001b[38;5;124m'\u001b[39m] \u001b[38;5;241m=\u001b[39m \u001b[38;5;241m2\u001b[39m \u001b[38;5;241m*\u001b[39m \u001b[38;5;28mint\u001b[39m(disp)\n\u001b[0;32m--> 804\u001b[0m     \u001b[38;5;28;01mreturn\u001b[39;00m \u001b[43m_minimize_scalar_bounded\u001b[49m\u001b[43m(\u001b[49m\u001b[43mfun\u001b[49m\u001b[43m,\u001b[49m\u001b[43m \u001b[49m\u001b[43mbounds\u001b[49m\u001b[43m,\u001b[49m\u001b[43m \u001b[49m\u001b[43margs\u001b[49m\u001b[43m,\u001b[49m\u001b[43m \u001b[49m\u001b[38;5;241;43m*\u001b[39;49m\u001b[38;5;241;43m*\u001b[39;49m\u001b[43moptions\u001b[49m\u001b[43m)\u001b[49m\n\u001b[1;32m    805\u001b[0m \u001b[38;5;28;01melif\u001b[39;00m meth \u001b[38;5;241m==\u001b[39m \u001b[38;5;124m'\u001b[39m\u001b[38;5;124mgolden\u001b[39m\u001b[38;5;124m'\u001b[39m:\n\u001b[1;32m    806\u001b[0m     \u001b[38;5;28;01mreturn\u001b[39;00m _minimize_scalar_golden(fun, bracket, args, \u001b[38;5;241m*\u001b[39m\u001b[38;5;241m*\u001b[39moptions)\n",
      "File \u001b[0;32m~/opt/anaconda3/lib/python3.9/site-packages/scipy/optimize/optimize.py:2077\u001b[0m, in \u001b[0;36m_minimize_scalar_bounded\u001b[0;34m(func, bounds, args, xatol, maxiter, disp, **unknown_options)\u001b[0m\n\u001b[1;32m   2075\u001b[0m si \u001b[38;5;241m=\u001b[39m np\u001b[38;5;241m.\u001b[39msign(rat) \u001b[38;5;241m+\u001b[39m (rat \u001b[38;5;241m==\u001b[39m \u001b[38;5;241m0\u001b[39m)\n\u001b[1;32m   2076\u001b[0m x \u001b[38;5;241m=\u001b[39m xf \u001b[38;5;241m+\u001b[39m si \u001b[38;5;241m*\u001b[39m np\u001b[38;5;241m.\u001b[39mmaximum(np\u001b[38;5;241m.\u001b[39mabs(rat), tol1)\n\u001b[0;32m-> 2077\u001b[0m fu \u001b[38;5;241m=\u001b[39m \u001b[43mfunc\u001b[49m\u001b[43m(\u001b[49m\u001b[43mx\u001b[49m\u001b[43m,\u001b[49m\u001b[43m \u001b[49m\u001b[38;5;241;43m*\u001b[39;49m\u001b[43margs\u001b[49m\u001b[43m)\u001b[49m\n\u001b[1;32m   2078\u001b[0m num \u001b[38;5;241m+\u001b[39m\u001b[38;5;241m=\u001b[39m \u001b[38;5;241m1\u001b[39m\n\u001b[1;32m   2079\u001b[0m fmin_data \u001b[38;5;241m=\u001b[39m (num, x, fu)\n",
      "Input \u001b[0;32mIn [6]\u001b[0m, in \u001b[0;36mnegative_key_rate_given_m\u001b[0;34m(m, *params)\u001b[0m\n\u001b[1;32m      4\u001b[0m miu \u001b[38;5;241m=\u001b[39m tgs\u001b[38;5;241m.\u001b[39mMiu(L, L_ATT, L_delay\u001b[38;5;241m=\u001b[39mL_delay, m\u001b[38;5;241m=\u001b[39mm)\n\u001b[1;32m      5\u001b[0m tree \u001b[38;5;241m=\u001b[39m tgs\u001b[38;5;241m.\u001b[39mTree_ancilla(np\u001b[38;5;241m.\u001b[39marray([b0, b1, b2]), miu\u001b[38;5;241m=\u001b[39mmiu)\n\u001b[0;32m----> 6\u001b[0m error \u001b[38;5;241m=\u001b[39m \u001b[43mtgs\u001b[49m\u001b[38;5;241;43m.\u001b[39;49m\u001b[43mError\u001b[49m\u001b[43m(\u001b[49m\u001b[43mtree\u001b[49m\u001b[43m,\u001b[49m\u001b[43m \u001b[49m\u001b[43mtime\u001b[49m\u001b[43m,\u001b[49m\u001b[43m \u001b[49m\u001b[43mt_spin_coherence\u001b[49m\u001b[38;5;241;43m=\u001b[39;49m\u001b[43mT_SPIN_COH\u001b[49m\u001b[43m)\u001b[49m\n\u001b[1;32m      7\u001b[0m result \u001b[38;5;241m=\u001b[39m \u001b[38;5;241m-\u001b[39mtgs\u001b[38;5;241m.\u001b[39meffective_key_rate(tree, time, error, m, \u001b[38;5;241m2\u001b[39m)\n\u001b[1;32m      8\u001b[0m \u001b[38;5;28;01mif\u001b[39;00m result \u001b[38;5;241m>\u001b[39m \u001b[38;5;241m0.\u001b[39m:\n",
      "File \u001b[0;32m~/Documents/ORF/Reproduce_result/tgs.py:273\u001b[0m, in \u001b[0;36mError.__init__\u001b[0;34m(self, tree, time, t_spin_coherence, epsilon_depolarization, epsilon_decoh, epsilon_sp_measure_set)\u001b[0m\n\u001b[1;32m    271\u001b[0m             counting \u001b[38;5;241m=\u001b[39m comb(b0, l)\u001b[38;5;241m*\u001b[39mcomb(b0\u001b[38;5;241m-\u001b[39ml, n)\u001b[38;5;241m*\u001b[39mcomb(b1, m)\n\u001b[1;32m    272\u001b[0m             successfully_decode_prob \u001b[38;5;241m=\u001b[39m (miu1\u001b[38;5;241m*\u001b[39mR1)\u001b[38;5;241m*\u001b[39m\u001b[38;5;241m*\u001b[39ml \u001b[38;5;241m*\u001b[39m ((\u001b[38;5;241m1\u001b[39m\u001b[38;5;241m-\u001b[39mmiu1)\u001b[38;5;241m*\u001b[39m(\u001b[38;5;241m1\u001b[39m\u001b[38;5;241m-\u001b[39mR1))\u001b[38;5;241m*\u001b[39m\u001b[38;5;241m*\u001b[39mn \u001b[38;5;241m*\u001b[39m ((\u001b[38;5;241m1\u001b[39m\u001b[38;5;241m-\u001b[39mmiu1)\u001b[38;5;241m*\u001b[39mR1)\u001b[38;5;241m*\u001b[39m\u001b[38;5;241m*\u001b[39m(b0\u001b[38;5;241m-\u001b[39ml\u001b[38;5;241m-\u001b[39mn) \u001b[38;5;241m*\u001b[39m ((\u001b[38;5;241m1\u001b[39m\u001b[38;5;241m-\u001b[39mmiu)\u001b[38;5;241m*\u001b[39m(\u001b[38;5;241m1\u001b[39m\u001b[38;5;241m-\u001b[39mR2))\u001b[38;5;241m*\u001b[39m\u001b[38;5;241m*\u001b[39mm \u001b[38;5;241m*\u001b[39m R2\u001b[38;5;241m*\u001b[39m\u001b[38;5;241m*\u001b[39m(b1\u001b[38;5;241m-\u001b[39mm)\n\u001b[0;32m--> 273\u001b[0m             e_incorrect \u001b[38;5;241m+\u001b[39m\u001b[38;5;241m=\u001b[39m counting \u001b[38;5;241m*\u001b[39m successfully_decode_prob \u001b[38;5;241m*\u001b[39m \u001b[38;5;28;43mself\u001b[39;49m\u001b[38;5;241;43m.\u001b[39;49m\u001b[43me_n_m\u001b[49m\u001b[43m(\u001b[49m\u001b[43mn\u001b[49m\u001b[43m,\u001b[49m\u001b[43mm\u001b[49m\u001b[43m)\u001b[49m\n\u001b[1;32m    274\u001b[0m \u001b[38;5;28mself\u001b[39m\u001b[38;5;241m.\u001b[39me_incorrect \u001b[38;5;241m=\u001b[39m e_incorrect\n",
      "File \u001b[0;32m~/Documents/ORF/Reproduce_result/tgs.py:304\u001b[0m, in \u001b[0;36mError.e_n_m\u001b[0;34m(self, n, m)\u001b[0m\n\u001b[1;32m    302\u001b[0m correct_parity_prob_m \u001b[38;5;241m=\u001b[39m \u001b[38;5;241m1\u001b[39m\n\u001b[1;32m    303\u001b[0m \u001b[38;5;28;01mfor\u001b[39;00m i \u001b[38;5;129;01min\u001b[39;00m \u001b[38;5;28mrange\u001b[39m(m\u001b[38;5;241m+\u001b[39m\u001b[38;5;241m1\u001b[39m): \u001b[38;5;66;03m# i: # of incorrectly measured (direct) qubits in 1st level \u001b[39;00m\n\u001b[0;32m--> 304\u001b[0m     direct \u001b[38;5;241m=\u001b[39m \u001b[43mcomb\u001b[49m\u001b[43m(\u001b[49m\u001b[43mm\u001b[49m\u001b[43m,\u001b[49m\u001b[43m \u001b[49m\u001b[43mi\u001b[49m\u001b[43m)\u001b[49m \u001b[38;5;241m*\u001b[39m e_m \u001b[38;5;241m*\u001b[39m\u001b[38;5;241m*\u001b[39mi \u001b[38;5;241m*\u001b[39m (\u001b[38;5;241m1\u001b[39m\u001b[38;5;241m-\u001b[39me_m)\u001b[38;5;241m*\u001b[39m\u001b[38;5;241m*\u001b[39m(m\u001b[38;5;241m-\u001b[39mi)\n\u001b[1;32m    305\u001b[0m     \u001b[38;5;66;03m# j: # of incorrectly measured (indirect) qubits in 1st level \u001b[39;00m\n\u001b[1;32m    306\u001b[0m     \u001b[38;5;66;03m# i + j must be odd so that the overall parity is wrong\u001b[39;00m\n\u001b[1;32m    307\u001b[0m     j_list \u001b[38;5;241m=\u001b[39m np\u001b[38;5;241m.\u001b[39marange(b1\u001b[38;5;241m-\u001b[39mm \u001b[38;5;241m+\u001b[39m \u001b[38;5;241m1\u001b[39m)\n",
      "File \u001b[0;32m~/opt/anaconda3/lib/python3.9/site-packages/scipy/special/_basic.py:2222\u001b[0m, in \u001b[0;36mcomb\u001b[0;34m(N, k, exact, repetition)\u001b[0m\n\u001b[1;32m   2220\u001b[0m \u001b[38;5;28;01melse\u001b[39;00m:\n\u001b[1;32m   2221\u001b[0m     k, N \u001b[38;5;241m=\u001b[39m asarray(k), asarray(N)\n\u001b[0;32m-> 2222\u001b[0m     cond \u001b[38;5;241m=\u001b[39m (\u001b[43mk\u001b[49m\u001b[43m \u001b[49m\u001b[38;5;241;43m<\u001b[39;49m\u001b[38;5;241;43m=\u001b[39;49m\u001b[43m \u001b[49m\u001b[43mN\u001b[49m) \u001b[38;5;241m&\u001b[39m (N \u001b[38;5;241m>\u001b[39m\u001b[38;5;241m=\u001b[39m \u001b[38;5;241m0\u001b[39m) \u001b[38;5;241m&\u001b[39m (k \u001b[38;5;241m>\u001b[39m\u001b[38;5;241m=\u001b[39m \u001b[38;5;241m0\u001b[39m)\n\u001b[1;32m   2223\u001b[0m     vals \u001b[38;5;241m=\u001b[39m binom(N, k)\n\u001b[1;32m   2224\u001b[0m     \u001b[38;5;28;01mif\u001b[39;00m \u001b[38;5;28misinstance\u001b[39m(vals, np\u001b[38;5;241m.\u001b[39mndarray):\n",
      "\u001b[0;31mKeyboardInterrupt\u001b[0m: "
     ]
    }
   ],
   "source": [
    "BRANCH_ranges = (slice(4, 5, 1), slice(1, 20, 1), slice(1, 6, 1))\n",
    "for i in range (4):\n",
    "    res = []\n",
    "    time = tgs.Time(GAMMA[i])\n",
    "    params = 1000e3, time, 0., T_SPIN_COHERENCE[i]\n",
    "    resbrute = brute(tgs_negative_keyrate_given_branch, BRANCH_ranges, args=params, full_output=True, finish=None)\n",
    "    res.append(resbrute)\n",
    "    print(resbrute[0])"
   ]
  },
  {
   "cell_type": "code",
   "execution_count": 9,
   "metadata": {},
   "outputs": [],
   "source": [
    "def tgs_positive_keyrate_given_branch(BRANCH_PARAM, *params):\n",
    "    params = params + tuple(BRANCH_PARAM)\n",
    "    res_high = minimize_scalar(negative_key_rate_given_m, bounds=(1., 1000.), args=params, method=\"Bounded\")\n",
    "    res_i = res_high\n",
    "    if res_high.fun > -1.:\n",
    "        res_low = minimize_scalar(negative_key_rate_given_m, bounds=(1., 100.), args=params, method=\"Bounded\")\n",
    "        if res_low.fun < res_high.fun:\n",
    "            res_i = res_low\n",
    "    return float(-res_i.fun)\n",
    "\n",
    "\n",
    "PARAMS = 1000e3, tgs.Time(GAMMA[0]), 0., T_SPIN_COHERENCE[0]\n",
    "def fitness_func(ga_instance, solution, solution_idx):\n",
    "    value = tgs_positive_keyrate_given_branch(solution, *PARAMS)\n",
    "    value = np.nan_to_num(value)\n",
    "    # print(solution[0], solution[1], solution[2], value)\n",
    "    return value\n",
    "\n",
    "def diversity(ga_instance, K=4):\n",
    "     index_k_best_list = sorted(range(ga_instance.pop_size[0]), key = lambda sub: ga_instance.last_generation_fitness[sub])[-K:]\n",
    "     worst_solution = ga_instance.population[index_k_best_list[0]][:-1] # compare the branch paramaters\n",
    "     best_solution = ga_instance.population[index_k_best_list[-1]][:-1]\n",
    "\n",
    "     sum_diff = np.sum(np.abs(best_solution-worst_solution))\n",
    "     return sum_diff\n",
    "\n",
    "def on_gen(ga_instance):\n",
    "    if int(ga_instance.generations_completed) % 2 == 0:\n",
    "        clear_output(wait=True)\n",
    "\n",
    "    print(\"Generation : \", ga_instance.generations_completed, flush=True)\n",
    "    print(\"Fitness of the best solution :\", ga_instance.best_solution()[0])\n",
    "\n",
    "\n",
    "num_generations = 10\n",
    "num_parents_mating = 4\n",
    "\n",
    "fitness_function = fitness_func\n",
    "\n",
    "sol_per_pop = 10 # number of solutions within the population\n",
    "num_genes = 3 # the function inputs\n",
    "gene_type = int # input type\n",
    "gene_space = range(21) # specify the possible values for each gene\n",
    "\n",
    "init_range_low = 1\n",
    "init_range_high = 10\n",
    "\n",
    "parent_selection_type = \"sss\"\n",
    "keep_parents = -1 # Number of parents to keep in the current population\n",
    "keep_elitism = 1 # only the best solution in the current generation is kept in the next generation.\n",
    "\n",
    "crossover_type = \"single_point\" \n",
    "\n",
    "mutation_type = \"random\"\n",
    "\n",
    "mutation_percent_genes = 10."
   ]
  },
  {
   "cell_type": "code",
   "execution_count": 10,
   "metadata": {},
   "outputs": [],
   "source": [
    "def key_rate_unpack(solution, *params):\n",
    "    b0, b1, b2, m = solution\n",
    "    L, time, L_delay, T_SPIN_COH = params\n",
    "    miu = tgs.Miu(L, L_ATT, L_delay=L_delay, m=m)\n",
    "    tree = tgs.Tree_ancilla(np.array([b0, b1, b2]), miu=miu)\n",
    "    error = tgs.Error(tree, time, t_spin_coherence=T_SPIN_COH)\n",
    "    result = tgs.effective_key_rate(tree, time, error, m, 2)\n",
    "    if result < 0. :\n",
    "        return 0.\n",
    "    return float(np.nan_to_num(result))\n",
    "\n",
    "def fitness_func_with_m(ga_instance, solution, solution_idx):\n",
    "    return key_rate_unpack(solution, *PARAMS)\n",
    "\n",
    "def tgs_optimized_key_rate_wrt_m(branch_param, m0, *params):\n",
    "    params = params + tuple(branch_param)\n",
    "    res = minimize_scalar(negative_key_rate_given_m, bounds=(max(m0-500, 0.), min(m0+500, 2000.)), args=params, method=\"Bounded\")\n",
    "    return float(-res.fun), res.x\n",
    "\n",
    "def on_fitness(ga_instance, population_fitness):\n",
    "    # find indices of k_best population_fitness solutions\n",
    "    K=4\n",
    "\n",
    "    index_k_best_list = sorted(range(ga_instance.pop_size[0]), key = lambda sub: population_fitness[sub])[-K:]\n",
    "    div = diversity(ga_instance, K)\n",
    "\n",
    "    if ga_instance.generations_completed > 10 or div<=2: \n",
    "        for i in index_k_best_list:\n",
    "            # Refine the key rates and m for these good candidates\n",
    "            branch_param = ga_instance.population[i][:-1]\n",
    "            m = ga_instance.population[i][-1]\n",
    "            print(f\"Branch paramaters: {branch_param}\")\n",
    "            print(f\"Before: m={m}, fitness={ga_instance.last_generation_fitness[i]}\")\n",
    "            ga_instance.last_generation_fitness[i], ga_instance.population[i][-1] = tgs_optimized_key_rate_wrt_m(branch_param, m, *PARAMS)\n",
    "            m = ga_instance.population[i][-1]\n",
    "            print(f\"After:  m={m}, fitness={ga_instance.last_generation_fitness[i]}\")\n",
    "    \n",
    "    div = diversity(ga_instance, K)\n",
    "    print(f\"Diversity of this generation: {div}\")\n",
    "    if div == 0 and ga_instance.mutation_percent_genes <= 40.:\n",
    "        ga_instance.mutation_percent_genes += 1.5\n",
    "    if div >= 2 and ga_instance.generations_completed > 5:\n",
    "        ga_instance.mutation_percent_genes -= 2.\n",
    "    print(\"Mutation_percent_genes for this generation = \", ga_instance.mutation_percent_genes)\n",
    "\n",
    "        # Update m and the corresponding fitness\n",
    "        \n",
    "    ...\n",
    "\n",
    "num_generations = 20\n",
    "num_parents_mating = 8\n",
    "\n",
    "fitness_function = fitness_func_with_m\n",
    "\n",
    "sol_per_pop = 80 # number of solutions within the population (initially)\n",
    "num_genes = 4 # the function inputs\n",
    "gene_type = [int, int, int, float] # input type\n",
    "gene_space = [range(1, 11), range(1, 30), range(1, 30), {\"low\": 1., \"high\": 2000.}]  # specify the possible values for each gene\n",
    "\n",
    "init_range_low = 1\n",
    "init_range_high = 10\n",
    "\n",
    "parent_selection_type = \"sss\"\n",
    "keep_parents = -1 # Number of parents to keep in the current population\n",
    "keep_elitism = 1 # only the best solution in the current generation is kept in the next generation.\n",
    "\n",
    "crossover_type = \"single_point\" \n",
    "\n",
    "mutation_type = \"random\"\n",
    "\n",
    "mutation_percent_genes = 25.\n",
    "\n",
    "parallel_processing = [\"process\", 0]"
   ]
  },
  {
   "cell_type": "code",
   "execution_count": 11,
   "metadata": {},
   "outputs": [
    {
     "name": "stdout",
     "output_type": "stream",
     "text": [
      "Generation :  2\n"
     ]
    },
    {
     "ename": "KeyboardInterrupt",
     "evalue": "",
     "output_type": "error",
     "traceback": [
      "\u001b[0;31m---------------------------------------------------------------------------\u001b[0m",
      "\u001b[0;31mKeyboardInterrupt\u001b[0m                         Traceback (most recent call last)",
      "Input \u001b[0;32mIn [11]\u001b[0m, in \u001b[0;36m<cell line: 19>\u001b[0;34m()\u001b[0m\n\u001b[1;32m      1\u001b[0m ga_instance \u001b[38;5;241m=\u001b[39m pygad\u001b[38;5;241m.\u001b[39mGA(num_generations\u001b[38;5;241m=\u001b[39mnum_generations,\n\u001b[1;32m      2\u001b[0m                         num_parents_mating\u001b[38;5;241m=\u001b[39mnum_parents_mating,\n\u001b[1;32m      3\u001b[0m                         fitness_func\u001b[38;5;241m=\u001b[39mfitness_function,\n\u001b[0;32m   (...)\u001b[0m\n\u001b[1;32m     16\u001b[0m                         \n\u001b[1;32m     17\u001b[0m                         on_generation\u001b[38;5;241m=\u001b[39mon_gen, on_fitness\u001b[38;5;241m=\u001b[39mon_fitness, parallel_processing\u001b[38;5;241m=\u001b[39mparallel_processing, save_solutions\u001b[38;5;241m=\u001b[39m\u001b[38;5;28;01mTrue\u001b[39;00m, stop_criteria\u001b[38;5;241m=\u001b[39m\u001b[38;5;124m\"\u001b[39m\u001b[38;5;124msaturate_5\u001b[39m\u001b[38;5;124m\"\u001b[39m)\n\u001b[0;32m---> 19\u001b[0m \u001b[43mga_instance\u001b[49m\u001b[38;5;241;43m.\u001b[39;49m\u001b[43mrun\u001b[49m\u001b[43m(\u001b[49m\u001b[43m)\u001b[49m\n",
      "File \u001b[0;32m~/opt/anaconda3/lib/python3.9/site-packages/pygad/pygad.py:1993\u001b[0m, in \u001b[0;36mGA.run\u001b[0;34m(self)\u001b[0m\n\u001b[1;32m   1990\u001b[0m \u001b[38;5;66;03m# Note: Any code that has loop-dependant statements (e.g. continue, break, etc) must be kept inside the loop of the 'run()' method. It can be moved to another method to clean the run() method.\u001b[39;00m\n\u001b[1;32m   1991\u001b[0m \u001b[38;5;66;03m# If the on_generation attribute is not None, then cal the callback function after the generation.\u001b[39;00m\n\u001b[1;32m   1992\u001b[0m \u001b[38;5;28;01mif\u001b[39;00m \u001b[38;5;129;01mnot\u001b[39;00m (\u001b[38;5;28mself\u001b[39m\u001b[38;5;241m.\u001b[39mon_generation \u001b[38;5;129;01mis\u001b[39;00m \u001b[38;5;28;01mNone\u001b[39;00m):\n\u001b[0;32m-> 1993\u001b[0m     r \u001b[38;5;241m=\u001b[39m \u001b[38;5;28;43mself\u001b[39;49m\u001b[38;5;241;43m.\u001b[39;49m\u001b[43mon_generation\u001b[49m\u001b[43m(\u001b[49m\u001b[38;5;28;43mself\u001b[39;49m\u001b[43m)\u001b[49m\n\u001b[1;32m   1994\u001b[0m     \u001b[38;5;28;01mif\u001b[39;00m \u001b[38;5;28mtype\u001b[39m(r) \u001b[38;5;129;01mis\u001b[39;00m \u001b[38;5;28mstr\u001b[39m \u001b[38;5;129;01mand\u001b[39;00m r\u001b[38;5;241m.\u001b[39mlower() \u001b[38;5;241m==\u001b[39m \u001b[38;5;124m\"\u001b[39m\u001b[38;5;124mstop\u001b[39m\u001b[38;5;124m\"\u001b[39m:\n\u001b[1;32m   1995\u001b[0m         \u001b[38;5;66;03m# Before aborting the loop, save the fitness value of the best solution.\u001b[39;00m\n\u001b[1;32m   1996\u001b[0m         \u001b[38;5;66;03m# _, best_solution_fitness, _ = self.best_solution()\u001b[39;00m\n\u001b[1;32m   1997\u001b[0m         \u001b[38;5;28mself\u001b[39m\u001b[38;5;241m.\u001b[39mbest_solutions_fitness\u001b[38;5;241m.\u001b[39mappend(best_solution_fitness)\n",
      "Input \u001b[0;32mIn [9]\u001b[0m, in \u001b[0;36mon_gen\u001b[0;34m(ga_instance)\u001b[0m\n\u001b[1;32m     29\u001b[0m     clear_output(wait\u001b[38;5;241m=\u001b[39m\u001b[38;5;28;01mTrue\u001b[39;00m)\n\u001b[1;32m     31\u001b[0m \u001b[38;5;28mprint\u001b[39m(\u001b[38;5;124m\"\u001b[39m\u001b[38;5;124mGeneration : \u001b[39m\u001b[38;5;124m\"\u001b[39m, ga_instance\u001b[38;5;241m.\u001b[39mgenerations_completed, flush\u001b[38;5;241m=\u001b[39m\u001b[38;5;28;01mTrue\u001b[39;00m)\n\u001b[0;32m---> 32\u001b[0m \u001b[38;5;28mprint\u001b[39m(\u001b[38;5;124m\"\u001b[39m\u001b[38;5;124mFitness of the best solution :\u001b[39m\u001b[38;5;124m\"\u001b[39m, \u001b[43mga_instance\u001b[49m\u001b[38;5;241;43m.\u001b[39;49m\u001b[43mbest_solution\u001b[49m\u001b[43m(\u001b[49m\u001b[43m)\u001b[49m[\u001b[38;5;241m0\u001b[39m])\n",
      "File \u001b[0;32m~/opt/anaconda3/lib/python3.9/site-packages/pygad/pygad.py:2348\u001b[0m, in \u001b[0;36mGA.best_solution\u001b[0;34m(self, pop_fitness)\u001b[0m\n\u001b[1;32m   2345\u001b[0m \u001b[38;5;28;01mtry\u001b[39;00m:\n\u001b[1;32m   2346\u001b[0m     \u001b[38;5;28;01mif\u001b[39;00m pop_fitness \u001b[38;5;129;01mis\u001b[39;00m \u001b[38;5;28;01mNone\u001b[39;00m:\n\u001b[1;32m   2347\u001b[0m         \u001b[38;5;66;03m# If the 'pop_fitness' parameter is not passed, then we have to call the 'cal_pop_fitness()' method to calculate the fitness of all solutions in the lastest population.\u001b[39;00m\n\u001b[0;32m-> 2348\u001b[0m         pop_fitness \u001b[38;5;241m=\u001b[39m \u001b[38;5;28;43mself\u001b[39;49m\u001b[38;5;241;43m.\u001b[39;49m\u001b[43mcal_pop_fitness\u001b[49m\u001b[43m(\u001b[49m\u001b[43m)\u001b[49m\n\u001b[1;32m   2349\u001b[0m     \u001b[38;5;66;03m# Verify the type of the 'pop_fitness' parameter.\u001b[39;00m\n\u001b[1;32m   2350\u001b[0m     \u001b[38;5;28;01melif\u001b[39;00m \u001b[38;5;28mtype\u001b[39m(pop_fitness) \u001b[38;5;129;01min\u001b[39;00m [\u001b[38;5;28mtuple\u001b[39m, \u001b[38;5;28mlist\u001b[39m, numpy\u001b[38;5;241m.\u001b[39mndarray]:\n\u001b[1;32m   2351\u001b[0m         \u001b[38;5;66;03m# Verify that the length of the passed population fitness matches the length of the 'self.population' attribute.\u001b[39;00m\n",
      "File \u001b[0;32m~/opt/anaconda3/lib/python3.9/site-packages/pygad/pygad.py:1708\u001b[0m, in \u001b[0;36mGA.cal_pop_fitness\u001b[0;34m(self)\u001b[0m\n\u001b[1;32m   1705\u001b[0m \u001b[38;5;28;01melse\u001b[39;00m:\n\u001b[1;32m   1706\u001b[0m     \u001b[38;5;66;03m# Check if batch processing is used. If not, then calculate this missing fitness value.\u001b[39;00m\n\u001b[1;32m   1707\u001b[0m     \u001b[38;5;28;01mif\u001b[39;00m \u001b[38;5;28mself\u001b[39m\u001b[38;5;241m.\u001b[39mfitness_batch_size \u001b[38;5;129;01min\u001b[39;00m [\u001b[38;5;241m1\u001b[39m, \u001b[38;5;28;01mNone\u001b[39;00m]:\n\u001b[0;32m-> 1708\u001b[0m         fitness \u001b[38;5;241m=\u001b[39m \u001b[38;5;28;43mself\u001b[39;49m\u001b[38;5;241;43m.\u001b[39;49m\u001b[43mfitness_func\u001b[49m\u001b[43m(\u001b[49m\u001b[38;5;28;43mself\u001b[39;49m\u001b[43m,\u001b[49m\u001b[43m \u001b[49m\u001b[43msol\u001b[49m\u001b[43m,\u001b[49m\u001b[43m \u001b[49m\u001b[43msol_idx\u001b[49m\u001b[43m)\u001b[49m\n\u001b[1;32m   1709\u001b[0m         \u001b[38;5;28;01mif\u001b[39;00m \u001b[38;5;28mtype\u001b[39m(fitness) \u001b[38;5;129;01min\u001b[39;00m GA\u001b[38;5;241m.\u001b[39msupported_int_float_types:\n\u001b[1;32m   1710\u001b[0m             \u001b[38;5;66;03m# The fitness function returns a single numeric value.\u001b[39;00m\n\u001b[1;32m   1711\u001b[0m             \u001b[38;5;66;03m# This is a single-objective optimization problem.\u001b[39;00m\n\u001b[1;32m   1712\u001b[0m             \u001b[38;5;28;01mpass\u001b[39;00m\n",
      "Input \u001b[0;32mIn [10]\u001b[0m, in \u001b[0;36mfitness_func_with_m\u001b[0;34m(ga_instance, solution, solution_idx)\u001b[0m\n\u001b[1;32m     12\u001b[0m \u001b[38;5;28;01mdef\u001b[39;00m \u001b[38;5;21mfitness_func_with_m\u001b[39m(ga_instance, solution, solution_idx):\n\u001b[0;32m---> 13\u001b[0m     \u001b[38;5;28;01mreturn\u001b[39;00m \u001b[43mkey_rate_unpack\u001b[49m\u001b[43m(\u001b[49m\u001b[43msolution\u001b[49m\u001b[43m,\u001b[49m\u001b[43m \u001b[49m\u001b[38;5;241;43m*\u001b[39;49m\u001b[43mPARAMS\u001b[49m\u001b[43m)\u001b[49m\n",
      "Input \u001b[0;32mIn [10]\u001b[0m, in \u001b[0;36mkey_rate_unpack\u001b[0;34m(solution, *params)\u001b[0m\n\u001b[1;32m      4\u001b[0m miu \u001b[38;5;241m=\u001b[39m tgs\u001b[38;5;241m.\u001b[39mMiu(L, L_ATT, L_delay\u001b[38;5;241m=\u001b[39mL_delay, m\u001b[38;5;241m=\u001b[39mm)\n\u001b[1;32m      5\u001b[0m tree \u001b[38;5;241m=\u001b[39m tgs\u001b[38;5;241m.\u001b[39mTree_ancilla(np\u001b[38;5;241m.\u001b[39marray([b0, b1, b2]), miu\u001b[38;5;241m=\u001b[39mmiu)\n\u001b[0;32m----> 6\u001b[0m error \u001b[38;5;241m=\u001b[39m \u001b[43mtgs\u001b[49m\u001b[38;5;241;43m.\u001b[39;49m\u001b[43mError\u001b[49m\u001b[43m(\u001b[49m\u001b[43mtree\u001b[49m\u001b[43m,\u001b[49m\u001b[43m \u001b[49m\u001b[43mtime\u001b[49m\u001b[43m,\u001b[49m\u001b[43m \u001b[49m\u001b[43mt_spin_coherence\u001b[49m\u001b[38;5;241;43m=\u001b[39;49m\u001b[43mT_SPIN_COH\u001b[49m\u001b[43m)\u001b[49m\n\u001b[1;32m      7\u001b[0m result \u001b[38;5;241m=\u001b[39m tgs\u001b[38;5;241m.\u001b[39meffective_key_rate(tree, time, error, m, \u001b[38;5;241m2\u001b[39m)\n\u001b[1;32m      8\u001b[0m \u001b[38;5;28;01mif\u001b[39;00m result \u001b[38;5;241m<\u001b[39m \u001b[38;5;241m0.\u001b[39m :\n",
      "File \u001b[0;32m~/Documents/ORF/Reproduce_result/tgs.py:273\u001b[0m, in \u001b[0;36mError.__init__\u001b[0;34m(self, tree, time, t_spin_coherence, epsilon_depolarization, epsilon_decoh, epsilon_sp_measure_set)\u001b[0m\n\u001b[1;32m    271\u001b[0m             counting \u001b[38;5;241m=\u001b[39m comb(b0, l)\u001b[38;5;241m*\u001b[39mcomb(b0\u001b[38;5;241m-\u001b[39ml, n)\u001b[38;5;241m*\u001b[39mcomb(b1, m)\n\u001b[1;32m    272\u001b[0m             successfully_decode_prob \u001b[38;5;241m=\u001b[39m (miu1\u001b[38;5;241m*\u001b[39mR1)\u001b[38;5;241m*\u001b[39m\u001b[38;5;241m*\u001b[39ml \u001b[38;5;241m*\u001b[39m ((\u001b[38;5;241m1\u001b[39m\u001b[38;5;241m-\u001b[39mmiu1)\u001b[38;5;241m*\u001b[39m(\u001b[38;5;241m1\u001b[39m\u001b[38;5;241m-\u001b[39mR1))\u001b[38;5;241m*\u001b[39m\u001b[38;5;241m*\u001b[39mn \u001b[38;5;241m*\u001b[39m ((\u001b[38;5;241m1\u001b[39m\u001b[38;5;241m-\u001b[39mmiu1)\u001b[38;5;241m*\u001b[39mR1)\u001b[38;5;241m*\u001b[39m\u001b[38;5;241m*\u001b[39m(b0\u001b[38;5;241m-\u001b[39ml\u001b[38;5;241m-\u001b[39mn) \u001b[38;5;241m*\u001b[39m ((\u001b[38;5;241m1\u001b[39m\u001b[38;5;241m-\u001b[39mmiu)\u001b[38;5;241m*\u001b[39m(\u001b[38;5;241m1\u001b[39m\u001b[38;5;241m-\u001b[39mR2))\u001b[38;5;241m*\u001b[39m\u001b[38;5;241m*\u001b[39mm \u001b[38;5;241m*\u001b[39m R2\u001b[38;5;241m*\u001b[39m\u001b[38;5;241m*\u001b[39m(b1\u001b[38;5;241m-\u001b[39mm)\n\u001b[0;32m--> 273\u001b[0m             e_incorrect \u001b[38;5;241m+\u001b[39m\u001b[38;5;241m=\u001b[39m counting \u001b[38;5;241m*\u001b[39m successfully_decode_prob \u001b[38;5;241m*\u001b[39m \u001b[38;5;28;43mself\u001b[39;49m\u001b[38;5;241;43m.\u001b[39;49m\u001b[43me_n_m\u001b[49m\u001b[43m(\u001b[49m\u001b[43mn\u001b[49m\u001b[43m,\u001b[49m\u001b[43mm\u001b[49m\u001b[43m)\u001b[49m\n\u001b[1;32m    274\u001b[0m \u001b[38;5;28mself\u001b[39m\u001b[38;5;241m.\u001b[39me_incorrect \u001b[38;5;241m=\u001b[39m e_incorrect\n",
      "File \u001b[0;32m~/Documents/ORF/Reproduce_result/tgs.py:311\u001b[0m, in \u001b[0;36mError.e_n_m\u001b[0;34m(self, n, m)\u001b[0m\n\u001b[1;32m    309\u001b[0m     indirect \u001b[38;5;241m=\u001b[39m \u001b[38;5;241m0\u001b[39m\n\u001b[1;32m    310\u001b[0m     \u001b[38;5;28;01mfor\u001b[39;00m j \u001b[38;5;129;01min\u001b[39;00m j_list:\n\u001b[0;32m--> 311\u001b[0m         indirect \u001b[38;5;241m+\u001b[39m\u001b[38;5;241m=\u001b[39m \u001b[43mcomb\u001b[49m\u001b[43m(\u001b[49m\u001b[43mb1\u001b[49m\u001b[43m \u001b[49m\u001b[38;5;241;43m-\u001b[39;49m\u001b[43m \u001b[49m\u001b[38;5;241;43m1\u001b[39;49m\u001b[43m \u001b[49m\u001b[38;5;241;43m-\u001b[39;49m\u001b[43m \u001b[49m\u001b[43mm\u001b[49m\u001b[43m,\u001b[49m\u001b[43m \u001b[49m\u001b[43mj\u001b[49m\u001b[43m)\u001b[49m\u001b[38;5;241m*\u001b[39m e_I_2\u001b[38;5;241m*\u001b[39m\u001b[38;5;241m*\u001b[39mj \u001b[38;5;241m*\u001b[39m (\u001b[38;5;241m1\u001b[39m\u001b[38;5;241m-\u001b[39me_I_2)\u001b[38;5;241m*\u001b[39m\u001b[38;5;241m*\u001b[39m(b1\u001b[38;5;241m-\u001b[39mm\u001b[38;5;241m-\u001b[39mj)\n\u001b[1;32m    312\u001b[0m     correct_parity_prob_m \u001b[38;5;241m-\u001b[39m\u001b[38;5;241m=\u001b[39m direct\u001b[38;5;241m*\u001b[39mindirect\n\u001b[1;32m    314\u001b[0m \u001b[38;5;28;01mreturn\u001b[39;00m \u001b[38;5;241m1\u001b[39m \u001b[38;5;241m-\u001b[39m (\u001b[38;5;241m1\u001b[39m\u001b[38;5;241m-\u001b[39me_m)\u001b[38;5;241m*\u001b[39mcorrect_parity_prob_n\u001b[38;5;241m*\u001b[39mcorrect_parity_prob_m\n",
      "File \u001b[0;32m~/opt/anaconda3/lib/python3.9/site-packages/scipy/special/_basic.py:2222\u001b[0m, in \u001b[0;36mcomb\u001b[0;34m(N, k, exact, repetition)\u001b[0m\n\u001b[1;32m   2220\u001b[0m \u001b[38;5;28;01melse\u001b[39;00m:\n\u001b[1;32m   2221\u001b[0m     k, N \u001b[38;5;241m=\u001b[39m asarray(k), asarray(N)\n\u001b[0;32m-> 2222\u001b[0m     cond \u001b[38;5;241m=\u001b[39m (k \u001b[38;5;241m<\u001b[39m\u001b[38;5;241m=\u001b[39m N) \u001b[38;5;241m&\u001b[39m (\u001b[43mN\u001b[49m\u001b[43m \u001b[49m\u001b[38;5;241;43m>\u001b[39;49m\u001b[38;5;241;43m=\u001b[39;49m\u001b[43m \u001b[49m\u001b[38;5;241;43m0\u001b[39;49m) \u001b[38;5;241m&\u001b[39m (k \u001b[38;5;241m>\u001b[39m\u001b[38;5;241m=\u001b[39m \u001b[38;5;241m0\u001b[39m)\n\u001b[1;32m   2223\u001b[0m     vals \u001b[38;5;241m=\u001b[39m binom(N, k)\n\u001b[1;32m   2224\u001b[0m     \u001b[38;5;28;01mif\u001b[39;00m \u001b[38;5;28misinstance\u001b[39m(vals, np\u001b[38;5;241m.\u001b[39mndarray):\n",
      "\u001b[0;31mKeyboardInterrupt\u001b[0m: "
     ]
    }
   ],
   "source": [
    "ga_instance = pygad.GA(num_generations=num_generations,\n",
    "                        num_parents_mating=num_parents_mating,\n",
    "                        fitness_func=fitness_function,\n",
    "                        sol_per_pop=sol_per_pop,\n",
    "                        num_genes=num_genes,\n",
    "                        gene_type=gene_type,\n",
    "                        gene_space=gene_space,\n",
    "                        init_range_low=init_range_low,\n",
    "                        init_range_high=init_range_high,\n",
    "                        parent_selection_type=parent_selection_type,\n",
    "                        keep_parents=keep_parents,\n",
    "                        keep_elitism=keep_elitism,\n",
    "                        crossover_type=crossover_type,\n",
    "                        mutation_type=mutation_type,\n",
    "                        mutation_percent_genes=mutation_percent_genes, \n",
    "                        \n",
    "                        on_generation=on_gen, on_fitness=on_fitness, parallel_processing=parallel_processing, save_solutions=True, stop_criteria=\"saturate_5\")\n",
    "\n",
    "ga_instance.run()"
   ]
  },
  {
   "cell_type": "code",
   "execution_count": null,
   "metadata": {},
   "outputs": [
    {
     "name": "stderr",
     "output_type": "stream",
     "text": [
      "No handles with labels found to put in legend.\n"
     ]
    },
    {
     "data": {
      "image/png": "[encoded data removed]",
      "text/plain": [
       "<Figure size 432x288 with 1 Axes>"
      ]
     },
     "metadata": {
      "needs_background": "light"
     },
     "output_type": "display_data"
    },
    {
     "data": {
      "image/png": "[encoded data removed]",
      "text/plain": [
       "<Figure size 432x288 with 1 Axes>"
      ]
     },
     "execution_count": 622,
     "metadata": {},
     "output_type": "execute_result"
    }
   ],
   "source": [
    "ga_instance.plot_fitness()"
   ]
  },
  {
   "cell_type": "code",
   "execution_count": null,
   "metadata": {},
   "outputs": [
    {
     "data": {
      "text/plain": [
       "-8.0"
      ]
     },
     "execution_count": 2,
     "metadata": {},
     "output_type": "execute_result"
    }
   ],
   "source": [
    "params = (1, 1, 1)\n",
    "def test_func(solution):\n",
    "    return float(solution[0]*params[0] + solution[1]*params[1] + solution[2]*params[2])\n",
    "\n",
    "params = (1, -5, 1)\n",
    "test_func([1,2,1])"
   ]
  }
 ],
 "metadata": {
  "kernelspec": {
   "display_name": "base",
   "language": "python",
   "name": "python3"
  },
  "language_info": {
   "codemirror_mode": {
    "name": "ipython",
    "version": 3
   },
   "file_extension": ".py",
   "mimetype": "text/x-python",
   "name": "python",
   "nbconvert_exporter": "python",
   "pygments_lexer": "ipython3",
   "version": "3.9.-1"
  }
 },
 "nbformat": 4,
 "nbformat_minor": 2
}
