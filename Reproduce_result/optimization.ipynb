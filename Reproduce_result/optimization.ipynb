{
 "cells": [
  {
   "cell_type": "code",
   "execution_count": 17,
   "metadata": {},
   "outputs": [
    {
     "data": {
      "text/plain": [
       "<module 'key_rate_optimization' from '/Users/gordonwongyl/Documents/ORF/Reproduce_result/key_rate_optimization.py'>"
      ]
     },
     "execution_count": 17,
     "metadata": {},
     "output_type": "execute_result"
    }
   ],
   "source": [
    "import numpy as np\n",
    "import matplotlib.pyplot as plt\n",
    "import pygad\n",
    "from importlib import reload\n",
    "from multiprocessing import Pool\n",
    "import pandas as pd \n",
    "\n",
    "import tgs \n",
    "import rgs \n",
    "import key_rate_optimization as opt\n",
    "\n",
    "reload(tgs)\n",
    "reload(rgs)\n",
    "reload(opt)"
   ]
  },
  {
   "cell_type": "code",
   "execution_count": null,
   "metadata": {},
   "outputs": [],
   "source": [
    "# Set the paramaters for optimization\n",
    "# Values in Table 2\n",
    "GAMMA = np.array([2e9, 100e9, 170e6, 100e9]) * 2 * np.pi\n",
    "T_SPIN_COHERENCE = [13e-3, 4e-6, 1., 1.]\n",
    "routines = [opt.tgs_a_routine, opt.tgs_f_routine, opt.rgs_a_routine, opt.rgs_f_routine]\n",
    "inputs = [{\"rout\": rout, \"GAMMA\": GAMMA[i], \"T_SPIN_COHERENCE\": T_SPIN_COHERENCE[i], \"L\": 1000e3} for i in range(4) for rout in routines]\n",
    "\n",
    "\n",
    "with Pool() as pool:\n",
    "    result = pool.map(opt.optimization, inputs)"
   ]
  },
  {
   "cell_type": "code",
   "execution_count": null,
   "metadata": {},
   "outputs": [],
   "source": [
    "fig, ax = plt.subplots(4, 4, figsize=(20, 20))\n",
    "routines = [opt.tgs_a_routine, opt.tgs_f_routine, opt.rgs_a_routine, opt.rgs_f_routine]\n",
    "\n",
    "for name_in in range(4):\n",
    "    name = routines[name_in].__class__.__name__\n",
    "    for param_in in range(4):\n",
    "        for iter in range(3):   \n",
    "            ga_instance = pygad.load(\"optimized_result/\" + name + f\"_gamma_{GAMMA[param_in]}_spin_coh_{T_SPIN_COHERENCE[param_in]}_L_{1000e3}_iter_{iter+1}\")\n",
    "            y_data = ga_instance.best_solutions_fitness\n",
    "            x_data = list(range(1, len(y_data)+1))\n",
    "            ax[param_in][name_in].plot(x_data, y_data, label=f\"{iter+1}. {ga_instance.best_solution()[0][:-1]}\")\n",
    "            ax[param_in][name_in].set_title(name)\n",
    "            # ax[name_in][param_in].legend()\n",
    "fig.show()"
   ]
  },
  {
   "cell_type": "code",
   "execution_count": 39,
   "metadata": {},
   "outputs": [],
   "source": [
    "for name_in in range(4):\n",
    "    name = scheme_list[name_in]\n",
    "    for param_in in range(4):\n",
    "        for iter in range(3):   \n",
    "            ax[param_in][name_in].legend()\n",
    "fig.savefig('output.png', facecolor='white')"
   ]
  },
  {
   "cell_type": "code",
   "execution_count": null,
   "metadata": {},
   "outputs": [],
   "source": [
    "GAMMA = 10**np.arange(7,13)*2*np.pi\n",
    "T_SPIN_COHERENCE = 10.**np.arange(-7,3)\n",
    "# routines = [opt.tgs_a_routine, opt.tgs_f_routine, opt.rgs_a_routine, opt.rgs_f_routine]\n",
    "routines = [opt.tgs_a_routine]\n",
    "inputs = [{\"rout\": rout, \"GAMMA\": g, \"T_SPIN_COHERENCE\": t, \"L\": 1000e3} for g in GAMMA for t in T_SPIN_COHERENCE for rout in routines]\n",
    "with Pool() as pool:\n",
    "    result = pool.map(opt.optimization, inputs)"
   ]
  },
  {
   "cell_type": "code",
   "execution_count": null,
   "metadata": {},
   "outputs": [],
   "source": [
    "L_list = np.linspace(1e3,3000e3,20)\n",
    "GAMMA = np.array([2e9, 100e9, 170e6, 100e9]) * 2 * np.pi\n",
    "T_SPIN_COHERENCE = [13e-3, 4e-6, 1., 1.]\n",
    "routines = [opt.tgs_a_routine, opt.tgs_f_routine, opt.rgs_a_routine, opt.rgs_f_routine]\n",
    "inputs = [{\"rout\": rout, \"GAMMA\": GAMMA[i], \"T_SPIN_COHERENCE\": T_SPIN_COHERENCE[i], \"L\": L} for rout in routines for i in range(4) for L in L_list ]\n",
    "with Pool() as pool:\n",
    "    result = pool.map(opt.optimization, inputs)"
   ]
  },
  {
   "cell_type": "code",
   "execution_count": 11,
   "metadata": {},
   "outputs": [],
   "source": [
    "cols_name = ['rout', 'GAMMA', 'T_SPIN_COHERENCE', 'L', 'best_solutions_fitness', 'best_solution']\n",
    "import csv\n",
    "with open('opt_record_3000e3_2D.csv', 'w') as csvfile: \n",
    "    writer = csv.DictWriter(csvfile, fieldnames = cols_name) \n",
    "    writer.writeheader() \n",
    "    writer.writerows(result)  \n",
    "    "
   ]
  }
 ],
 "metadata": {
  "kernelspec": {
   "display_name": "base",
   "language": "python",
   "name": "python3"
  },
  "language_info": {
   "codemirror_mode": {
    "name": "ipython",
    "version": 3
   },
   "file_extension": ".py",
   "mimetype": "text/x-python",
   "name": "python",
   "nbconvert_exporter": "python",
   "pygments_lexer": "ipython3",
   "version": "3.9.7"
  }
 },
 "nbformat": 4,
 "nbformat_minor": 2
}
