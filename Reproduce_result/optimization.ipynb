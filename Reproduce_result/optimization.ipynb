{
 "cells": [
  {
   "cell_type": "code",
   "execution_count": 624,
   "metadata": {},
   "outputs": [
    {
     "data": {
      "text/plain": [
       "<module 'key_rate_optimization' from '/Users/gordonwongyl/Documents/ORF/Reproduce_result/key_rate_optimization.py'>"
      ]
     },
     "execution_count": 624,
     "metadata": {},
     "output_type": "execute_result"
    }
   ],
   "source": [
    "import numpy as np\n",
    "import matplotlib.pyplot as plt\n",
    "from scipy.optimize import minimize_scalar, brute, dual_annealing\n",
    "import pygad\n",
    "from importlib import reload\n",
    "from IPython.display import clear_output\n",
    "import os\n",
    "\n",
    "import tgs \n",
    "import rgs \n",
    "import key_rate_optimization as opt\n",
    "\n",
    "reload(tgs)\n",
    "reload(rgs)\n",
    "reload(opt)"
   ]
  },
  {
   "cell_type": "code",
   "execution_count": 625,
   "metadata": {},
   "outputs": [
    {
     "data": {
      "text/plain": [
       "(1000000.0, None, 0.0, None)"
      ]
     },
     "execution_count": 625,
     "metadata": {},
     "output_type": "execute_result"
    }
   ],
   "source": []
  }
 ],
 "metadata": {
  "language_info": {
   "name": "python"
  }
 },
 "nbformat": 4,
 "nbformat_minor": 2
}
